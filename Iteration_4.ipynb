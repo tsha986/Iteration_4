{
 "cells": [
  {
   "cell_type": "markdown",
   "metadata": {},
   "source": [
    "## This project aims to determine the quality of hospitals by using readmission of patients as the quality indicator.\n",
    "\n",
    "## We will analyse the factors responsible for the readmission of patients, and provide a prediction whether a patient will be readmitted or not"
   ]
  },
  {
   "cell_type": "code",
   "execution_count": 2,
   "metadata": {},
   "outputs": [],
   "source": [
    "import findspark\n",
    "findspark.init('/home/ubuntu/spark-2.1.1-bin-hadoop2.7')\n",
    "import pyspark\n",
    "from pyspark.sql import SparkSession\n",
    "spark = SparkSession.builder.appName('iteration4').getOrCreate()\n",
    "from pyspark.sql.functions import col\n",
    "from pyspark.sql.functions import isnan, when, count, col\n",
    "import pyspark.sql.functions as f\n",
    "from pyspark.ml.feature import ChiSqSelector\n",
    "from pyspark.ml.linalg import Vector\n",
    "from pyspark.ml.feature import VectorAssembler"
   ]
  },
  {
   "cell_type": "code",
   "execution_count": 3,
   "metadata": {},
   "outputs": [],
   "source": [
    "patients_data = spark.read.csv('patient_data.csv',inferSchema = True, header = True)"
   ]
  },
  {
   "cell_type": "code",
   "execution_count": 4,
   "metadata": {},
   "outputs": [],
   "source": [
    "medications_data = spark.read.csv('medication data.csv',inferSchema = True, header = True)"
   ]
  },
  {
   "cell_type": "code",
   "execution_count": 4,
   "metadata": {},
   "outputs": [
    {
     "name": "stdout",
     "output_type": "stream",
     "text": [
      "+------------+-----------+---------------+------+-------+------+-----------------+------------------------+-------------------+----------------+----------+--------------------+------------------+--------------+---------------+-----------------+----------------+----------------+------+------+------+----------------+------+-----------+----------+\n",
      "|encounter_id|patient_nbr|           race|gender|    age|weight|admission_type_id|discharge_disposition_id|admission_source_id|time_in_hospital|payer_code|   medical_specialty|num_lab_procedures|num_procedures|num_medications|number_outpatient|number_emergency|number_inpatient|diag_1|diag_2|diag_3|number_diagnoses|change|diabetesMed|readmitted|\n",
      "+------------+-----------+---------------+------+-------+------+-----------------+------------------------+-------------------+----------------+----------+--------------------+------------------+--------------+---------------+-----------------+----------------+----------------+------+------+------+----------------+------+-----------+----------+\n",
      "|     2278392|    8222157|      Caucasian|Female| [0-10)|     ?|                6|                      25|                  1|               1|         ?|Pediatrics-Endocr...|                41|             0|              1|                0|               0|               0|250.83|     ?|     ?|               1|    No|         No|        NO|\n",
      "|      149190|   55629189|      Caucasian|Female|[10-20)|     ?|                1|                       1|                  7|               3|         ?|                   ?|                59|             0|             18|                0|               0|               0|   276|250.01|   255|               9|    Ch|        Yes|       >30|\n",
      "|       64410|   86047875|AfricanAmerican|Female|[20-30)|     ?|                1|                       1|                  7|               2|         ?|                   ?|                11|             5|             13|                2|               0|               1|   648|   250|   V27|               6|    No|        Yes|        NO|\n",
      "|      500364|   82442376|      Caucasian|  Male|[30-40)|     ?|                1|                       1|                  7|               2|         ?|                   ?|                44|             1|             16|                0|               0|               0|     8|250.43|   403|               7|    Ch|        Yes|        NO|\n",
      "|       16680|   42519267|      Caucasian|  Male|[40-50)|     ?|                1|                       1|                  7|               1|         ?|                   ?|                51|             0|              8|                0|               0|               0|   197|   157|   250|               5|    Ch|        Yes|        NO|\n",
      "+------------+-----------+---------------+------+-------+------+-----------------+------------------------+-------------------+----------------+----------+--------------------+------------------+--------------+---------------+-----------------+----------------+----------------+------+------+------+----------------+------+-----------+----------+\n",
      "only showing top 5 rows\n",
      "\n"
     ]
    }
   ],
   "source": [
    "patients_data.show(5)"
   ]
  },
  {
   "cell_type": "code",
   "execution_count": 5,
   "metadata": {},
   "outputs": [
    {
     "name": "stdout",
     "output_type": "stream",
     "text": [
      "(101766, 25)\n"
     ]
    }
   ],
   "source": [
    "print((patients_data.count(), len(patients_data.columns)))"
   ]
  },
  {
   "cell_type": "code",
   "execution_count": 6,
   "metadata": {},
   "outputs": [
    {
     "name": "stdout",
     "output_type": "stream",
     "text": [
      "+------------+-----------+-------------+---------+---------+-----------+-----------+--------------+-----------+-------------+---------+---------+-----------+------------+-------------+--------+--------+------------+----------+-------+-----------+-------+-------------------+-------------------+------------------------+-----------------------+----------------------+------+-----------+----------+\n",
      "|encounter_id|patient_nbr|max_glu_serum|A1Cresult|metformin|repaglinide|nateglinide|chlorpropamide|glimepiride|acetohexamide|glipizide|glyburide|tolbutamide|pioglitazone|rosiglitazone|acarbose|miglitol|troglitazone|tolazamide|examide|citoglipton|insulin|glyburide-metformin|glipizide-metformin|glimepiride-pioglitazone|metformin-rosiglitazone|metformin-pioglitazone|change|diabetesMed|readmitted|\n",
      "+------------+-----------+-------------+---------+---------+-----------+-----------+--------------+-----------+-------------+---------+---------+-----------+------------+-------------+--------+--------+------------+----------+-------+-----------+-------+-------------------+-------------------+------------------------+-----------------------+----------------------+------+-----------+----------+\n",
      "|     2278392|    8222157|         None|     None|       No|         No|         No|            No|         No|           No|       No|       No|         No|          No|           No|      No|      No|          No|        No|     No|         No|     No|                 No|                 No|                      No|                     No|                    No|    No|         No|        NO|\n",
      "|      149190|   55629189|         None|     None|       No|         No|         No|            No|         No|           No|       No|       No|         No|          No|           No|      No|      No|          No|        No|     No|         No|     Up|                 No|                 No|                      No|                     No|                    No|    Ch|        Yes|       >30|\n",
      "|       64410|   86047875|         None|     None|       No|         No|         No|            No|         No|           No|   Steady|       No|         No|          No|           No|      No|      No|          No|        No|     No|         No|     No|                 No|                 No|                      No|                     No|                    No|    No|        Yes|        NO|\n",
      "|      500364|   82442376|         None|     None|       No|         No|         No|            No|         No|           No|       No|       No|         No|          No|           No|      No|      No|          No|        No|     No|         No|     Up|                 No|                 No|                      No|                     No|                    No|    Ch|        Yes|        NO|\n",
      "|       16680|   42519267|         None|     None|       No|         No|         No|            No|         No|           No|   Steady|       No|         No|          No|           No|      No|      No|          No|        No|     No|         No| Steady|                 No|                 No|                      No|                     No|                    No|    Ch|        Yes|        NO|\n",
      "+------------+-----------+-------------+---------+---------+-----------+-----------+--------------+-----------+-------------+---------+---------+-----------+------------+-------------+--------+--------+------------+----------+-------+-----------+-------+-------------------+-------------------+------------------------+-----------------------+----------------------+------+-----------+----------+\n",
      "only showing top 5 rows\n",
      "\n"
     ]
    }
   ],
   "source": [
    "medications_data.show(5)"
   ]
  },
  {
   "cell_type": "code",
   "execution_count": 7,
   "metadata": {},
   "outputs": [
    {
     "name": "stdout",
     "output_type": "stream",
     "text": [
      "(101766, 30)\n"
     ]
    }
   ],
   "source": [
    "print((medications_data.count(), len(medications_data.columns)))"
   ]
  },
  {
   "cell_type": "code",
   "execution_count": 8,
   "metadata": {},
   "outputs": [
    {
     "name": "stdout",
     "output_type": "stream",
     "text": [
      "+------------+-----------+---------------+------+--------+------+-----------------+------------------------+-------------------+----------------+----------+--------------------+------------------+--------------+---------------+-----------------+----------------+----------------+------+------+------+----------------+------+-----------+----------+\n",
      "|encounter_id|patient_nbr|           race|gender|     age|weight|admission_type_id|discharge_disposition_id|admission_source_id|time_in_hospital|payer_code|   medical_specialty|num_lab_procedures|num_procedures|num_medications|number_outpatient|number_emergency|number_inpatient|diag_1|diag_2|diag_3|number_diagnoses|change|diabetesMed|readmitted|\n",
      "+------------+-----------+---------------+------+--------+------+-----------------+------------------------+-------------------+----------------+----------+--------------------+------------------+--------------+---------------+-----------------+----------------+----------------+------+------+------+----------------+------+-----------+----------+\n",
      "|     2278392|    8222157|      Caucasian|Female|  [0-10)|     ?|                6|                      25|                  1|               1|         ?|Pediatrics-Endocr...|                41|             0|              1|                0|               0|               0|250.83|     ?|     ?|               1|    No|         No|        NO|\n",
      "|      149190|   55629189|      Caucasian|Female| [10-20)|     ?|                1|                       1|                  7|               3|         ?|                   ?|                59|             0|             18|                0|               0|               0|   276|250.01|   255|               9|    Ch|        Yes|       >30|\n",
      "|       64410|   86047875|AfricanAmerican|Female| [20-30)|     ?|                1|                       1|                  7|               2|         ?|                   ?|                11|             5|             13|                2|               0|               1|   648|   250|   V27|               6|    No|        Yes|        NO|\n",
      "|      500364|   82442376|      Caucasian|  Male| [30-40)|     ?|                1|                       1|                  7|               2|         ?|                   ?|                44|             1|             16|                0|               0|               0|     8|250.43|   403|               7|    Ch|        Yes|        NO|\n",
      "|       16680|   42519267|      Caucasian|  Male| [40-50)|     ?|                1|                       1|                  7|               1|         ?|                   ?|                51|             0|              8|                0|               0|               0|   197|   157|   250|               5|    Ch|        Yes|        NO|\n",
      "|       35754|   82637451|      Caucasian|  Male| [50-60)|     ?|                2|                       1|                  2|               3|         ?|                   ?|                31|             6|             16|                0|               0|               0|   414|   411|   250|               9|    No|        Yes|       >30|\n",
      "|       55842|   84259809|      Caucasian|  Male| [60-70)|     ?|                3|                       1|                  2|               4|         ?|                   ?|                70|             1|             21|                0|               0|               0|   414|   411|   V45|               7|    Ch|        Yes|        NO|\n",
      "|       63768|  114882984|      Caucasian|  Male| [70-80)|     ?|                1|                       1|                  7|               5|         ?|                   ?|                73|             0|             12|                0|               0|               0|   428|   492|   250|               8|    No|        Yes|       >30|\n",
      "|       12522|   48330783|      Caucasian|Female| [80-90)|     ?|                2|                       1|                  4|              13|         ?|                   ?|                68|             2|             28|                0|               0|               0|   398|   427|    38|               8|    Ch|        Yes|        NO|\n",
      "|       15738|   63555939|      Caucasian|Female|[90-100)|     ?|                3|                       3|                  4|              12|         ?|    InternalMedicine|                33|             3|             18|                0|               0|               0|   434|   198|   486|               8|    Ch|        Yes|        NO|\n",
      "|       28236|   89869032|AfricanAmerican|Female| [40-50)|     ?|                1|                       1|                  7|               9|         ?|                   ?|                47|             2|             17|                0|               0|               0| 250.7|   403|   996|               9|    No|        Yes|       >30|\n",
      "|       36900|   77391171|AfricanAmerican|  Male| [60-70)|     ?|                2|                       1|                  4|               7|         ?|                   ?|                62|             0|             11|                0|               0|               0|   157|   288|   197|               7|    Ch|        Yes|       <30|\n",
      "|       40926|   85504905|      Caucasian|Female| [40-50)|     ?|                1|                       3|                  7|               7|         ?|Family/GeneralPra...|                60|             0|             15|                0|               1|               0|   428|250.43| 250.6|               8|    Ch|        Yes|       <30|\n",
      "|       42570|   77586282|      Caucasian|  Male| [80-90)|     ?|                1|                       6|                  7|              10|         ?|Family/GeneralPra...|                55|             1|             31|                0|               0|               0|   428|   411|   427|               8|    No|        Yes|        NO|\n",
      "|       62256|   49726791|AfricanAmerican|Female| [60-70)|     ?|                3|                       1|                  2|               1|         ?|                   ?|                49|             5|              2|                0|               0|               0|   518|   998|   627|               8|    No|        Yes|       >30|\n",
      "|       73578|   86328819|AfricanAmerican|  Male| [60-70)|     ?|                1|                       3|                  7|              12|         ?|                   ?|                75|             5|             13|                0|               0|               0|   999|   507|   996|               9|    Ch|        Yes|        NO|\n",
      "|       77076|   92519352|AfricanAmerican|  Male| [50-60)|     ?|                1|                       1|                  7|               4|         ?|                   ?|                45|             4|             17|                0|               0|               0|   410|   411|   414|               8|    Ch|        Yes|       <30|\n",
      "|       84222|  108662661|      Caucasian|Female| [50-60)|     ?|                1|                       1|                  7|               3|         ?|          Cardiology|                29|             0|             11|                0|               0|               0|   682|   174|   250|               3|    No|        Yes|        NO|\n",
      "|       89682|  107389323|AfricanAmerican|  Male| [70-80)|     ?|                1|                       1|                  7|               5|         ?|                   ?|                35|             5|             23|                0|               0|               0|   402|   425|   416|               9|    No|        Yes|       >30|\n",
      "|      148530|   69422211|              ?|  Male| [70-80)|     ?|                3|                       6|                  2|               6|         ?|                   ?|                42|             2|             23|                0|               0|               0|   737|   427|   714|               8|    Ch|        Yes|        NO|\n",
      "+------------+-----------+---------------+------+--------+------+-----------------+------------------------+-------------------+----------------+----------+--------------------+------------------+--------------+---------------+-----------------+----------------+----------------+------+------+------+----------------+------+-----------+----------+\n",
      "only showing top 20 rows\n",
      "\n"
     ]
    }
   ],
   "source": [
    "patients_data.show()"
   ]
  },
  {
   "cell_type": "code",
   "execution_count": 5,
   "metadata": {},
   "outputs": [],
   "source": [
    "a = patients_data.filter(col(\"encounter_id\") == \"?\")\n",
    "b = patients_data.filter(col(\"patient_nbr\") == \"?\")\n",
    "c = patients_data.filter(col(\"race\") == \"?\")\n",
    "d = patients_data.filter(col(\"gender\") == \"?\")\n",
    "e = patients_data.filter(col(\"age\") == \"?\")\n",
    "f = patients_data.filter(col(\"weight\") == \"?\")\n",
    "g = patients_data.filter(col(\"admission_type_id\") == \"?\")\n",
    "h = patients_data.filter(col(\"discharge_disposition_id\") == \"?\")\n",
    "i = patients_data.filter(col(\"admission_source_id\") == \"?\")\n",
    "j = patients_data.filter(col(\"time_in_hospital\") == \"?\")\n",
    "k = patients_data.filter(col(\"payer_code\") == \"?\")\n",
    "l = patients_data.filter(col(\"medical_specialty\") == \"?\")\n",
    "m = patients_data.filter(col(\"num_lab_procedures\") == \"?\")\n",
    "n = patients_data.filter(col(\"num_procedures\") == \"?\")\n",
    "o = patients_data.filter(col(\"num_medications\") == \"?\")\n",
    "p = patients_data.filter(col(\"number_outpatient\") == \"?\")\n",
    "q = patients_data.filter(col(\"number_emergency\") == \"?\")\n",
    "r = patients_data.filter(col(\"number_inpatient\") == \"?\")\n",
    "s = patients_data.filter(col(\"diag_1\") == \"?\")\n",
    "t = patients_data.filter(col(\"diag_2\") == \"?\")\n",
    "u = patients_data.filter(col(\"diag_3\") == \"?\")\n",
    "v = patients_data.filter(col(\"number_diagnoses\") == \"?\")\n",
    "w = patients_data.filter(col(\"change\") == \"?\")\n",
    "x = patients_data.filter(col(\"diabetesMed\") == \"?\")\n",
    "y = patients_data.filter(col(\"readmitted\") == \"?\")"
   ]
  },
  {
   "cell_type": "code",
   "execution_count": 10,
   "metadata": {},
   "outputs": [
    {
     "name": "stdout",
     "output_type": "stream",
     "text": [
      "encounter_id:0\n",
      "patient_nbr:0\n",
      "race:2273\n",
      "gender:0\n",
      "age:0\n",
      "weight:98569\n",
      "admission_type_id:0\n",
      "discharge_disposition_id:0\n",
      "admission_source_id:0\n",
      "time_in_hospital:0\n",
      "payer_code:40256\n",
      "medical_specialty:49949\n",
      "num_lab_procedures:0\n",
      "num_procedures:0\n",
      "num_medications:0\n",
      "number_outpatient:0\n",
      "number_emergency:0\n",
      "number_inpatient:0\n",
      "diag_1:21\n",
      "diag_2:358\n",
      "diag_3:1423\n",
      "number_diagnoses:0\n",
      "change:0\n",
      "diabetesMed:0\n",
      "readmitted:0\n"
     ]
    }
   ],
   "source": [
    "print('encounter_id:'+str(a.count()))\n",
    "print('patient_nbr:'+str(b.count()))\n",
    "print('race:'+str(c.count()))\n",
    "print('gender:'+str(d.count()))\n",
    "print('age:'+str(e.count()))\n",
    "print('weight:'+str(f.count()))\n",
    "print('admission_type_id:'+str(g.count()))\n",
    "print('discharge_disposition_id:'+str(h.count()))\n",
    "print('admission_source_id:'+str(i.count()))\n",
    "print('time_in_hospital:'+str(j.count()))\n",
    "print('payer_code:'+str(k.count()))\n",
    "print('medical_specialty:'+str(l.count()))\n",
    "print('num_lab_procedures:'+str(m.count()))\n",
    "print('num_procedures:'+str(n.count()))\n",
    "print('num_medications:'+str(o.count()))\n",
    "print('number_outpatient:'+str(p.count()))\n",
    "print('number_emergency:'+str(q.count()))\n",
    "print('number_inpatient:'+str(r.count()))\n",
    "print('diag_1:'+str(s.count()))\n",
    "print('diag_2:'+str(t.count()))\n",
    "print('diag_3:'+str(u.count()))\n",
    "print('number_diagnoses:'+str(v.count()))\n",
    "print('change:'+str(w.count()))\n",
    "print('diabetesMed:'+str(x.count()))\n",
    "print('readmitted:'+str(y.count()))"
   ]
  },
  {
   "cell_type": "code",
   "execution_count": 11,
   "metadata": {},
   "outputs": [],
   "source": [
    "a = medications_data.filter(col(\"encounter_id\") == \"?\")\n",
    "b = medications_data.filter(col(\"patient_nbr\") == \"?\")\n",
    "c = medications_data.filter(col(\"max_glu_serum\") == \"?\")\n",
    "d = medications_data.filter(col(\"A1Cresult\") == \"?\")\n",
    "e = medications_data.filter(col(\"metformin\") == \"?\")\n",
    "f = medications_data.filter(col(\"repaglinide\") == \"?\")\n",
    "g = medications_data.filter(col(\"nateglinide\") == \"?\")\n",
    "h = medications_data.filter(col(\"chlorpropamide\") == \"?\")\n",
    "i = medications_data.filter(col(\"glimepiride\") == \"?\")\n",
    "j = medications_data.filter(col(\"acetohexamide\") == \"?\")\n",
    "k = medications_data.filter(col(\"glipizide\") == \"?\")\n",
    "l = medications_data.filter(col(\"glyburide\") == \"?\")\n",
    "m = medications_data.filter(col(\"tolbutamide\") == \"?\")\n",
    "n = medications_data.filter(col(\"pioglitazone\") == \"?\")\n",
    "o = medications_data.filter(col(\"rosiglitazone\") == \"?\")\n",
    "p = medications_data.filter(col(\"acarbose\") == \"?\")\n",
    "q = medications_data.filter(col(\"miglitol\") == \"?\")\n",
    "r = medications_data.filter(col(\"troglitazone\") == \"?\")\n",
    "s = medications_data.filter(col(\"tolazamide\") == \"?\")\n",
    "t = medications_data.filter(col(\"examide\") == \"?\")\n",
    "u = medications_data.filter(col(\"citoglipton\") == \"?\")\n",
    "v = medications_data.filter(col(\"insulin\") == \"?\")\n",
    "w = medications_data.filter(col(\"glyburide-metformin\") == \"?\")\n",
    "x = medications_data.filter(col(\"glipizide-metformin\") == \"?\")\n",
    "y = medications_data.filter(col(\"glimepiride-pioglitazone\") == \"?\")\n",
    "z = medications_data.filter(col(\"metformin-rosiglitazone\") == \"?\")\n",
    "aa = medications_data.filter(col(\"metformin-pioglitazone\") == \"?\")\n",
    "ab = medications_data.filter(col(\"change\") == \"?\")\n",
    "ac = medications_data.filter(col(\"diabetesMed\") == \"?\")\n",
    "ad = medications_data.filter(col(\"readmitted\") == \"?\")"
   ]
  },
  {
   "cell_type": "code",
   "execution_count": 12,
   "metadata": {},
   "outputs": [
    {
     "name": "stdout",
     "output_type": "stream",
     "text": [
      "encounter_id:0\n",
      "patient_nbr:0\n",
      "max_glu_serum:0\n",
      "A1Cresult:0\n",
      "metformin:0\n",
      "repaglinide:0\n",
      "nateglinide:0\n",
      "chlorpropamide:0\n",
      "glimepiride:0\n",
      "acetohexamide:0\n",
      "glipizide:0\n",
      "glyburide:0\n",
      "tolbutamide:0\n",
      "pioglitazone:0\n",
      "rosiglitazone:0\n",
      "acarbose:0\n",
      "miglitol:0\n",
      "troglitazone:0\n",
      "tolazamide:0\n",
      "examide:0\n",
      "citoglipton:0\n",
      "insulin:0\n",
      "glyburide-metformin:0\n",
      "glipizide-metformin:0\n",
      "glimepiride-pioglitazone:0\n",
      "metformin-rosiglitazone:0\n",
      "metformin-pioglitazone:0\n",
      "change:0\n",
      "diabetesMed:0\n",
      "readmitted:0\n"
     ]
    }
   ],
   "source": [
    "print('encounter_id:'+str(a.count()))\n",
    "print('patient_nbr:'+str(b.count()))\n",
    "print('max_glu_serum:'+str(c.count()))\n",
    "print('A1Cresult:'+str(d.count()))\n",
    "print('metformin:'+str(e.count()))\n",
    "print('repaglinide:'+str(f.count()))\n",
    "print('nateglinide:'+str(g.count()))\n",
    "print('chlorpropamide:'+str(h.count()))\n",
    "print('glimepiride:'+str(i.count()))\n",
    "print('acetohexamide:'+str(j.count()))\n",
    "print('glipizide:'+str(k.count()))\n",
    "print('glyburide:'+str(l.count()))\n",
    "print('tolbutamide:'+str(m.count()))\n",
    "print('pioglitazone:'+str(n.count()))\n",
    "print('rosiglitazone:'+str(o.count()))\n",
    "print('acarbose:'+str(p.count()))\n",
    "print('miglitol:'+str(q.count()))\n",
    "print('troglitazone:'+str(r.count()))\n",
    "print('tolazamide:'+str(s.count()))\n",
    "print('examide:'+str(t.count()))\n",
    "print('citoglipton:'+str(u.count()))\n",
    "print('insulin:'+str(v.count()))\n",
    "print('glyburide-metformin:'+str(w.count()))\n",
    "print('glipizide-metformin:'+str(x.count()))\n",
    "print('glimepiride-pioglitazone:'+str(y.count()))\n",
    "print('metformin-rosiglitazone:'+str(z.count()))\n",
    "print('metformin-pioglitazone:'+str(aa.count()))\n",
    "print('change:'+str(ab.count()))\n",
    "print('diabetesMed:'+str(ac.count()))\n",
    "print('readmitted:'+str(ad.count()))\n"
   ]
  },
  {
   "cell_type": "code",
   "execution_count": 13,
   "metadata": {},
   "outputs": [
    {
     "data": {
      "text/plain": [
       "[('encounter_id', 'int'),\n",
       " ('patient_nbr', 'int'),\n",
       " ('race', 'string'),\n",
       " ('gender', 'string'),\n",
       " ('age', 'string'),\n",
       " ('weight', 'string'),\n",
       " ('admission_type_id', 'int'),\n",
       " ('discharge_disposition_id', 'int'),\n",
       " ('admission_source_id', 'int'),\n",
       " ('time_in_hospital', 'int'),\n",
       " ('payer_code', 'string'),\n",
       " ('medical_specialty', 'string'),\n",
       " ('num_lab_procedures', 'int'),\n",
       " ('num_procedures', 'int'),\n",
       " ('num_medications', 'int'),\n",
       " ('number_outpatient', 'int'),\n",
       " ('number_emergency', 'int'),\n",
       " ('number_inpatient', 'int'),\n",
       " ('diag_1', 'string'),\n",
       " ('diag_2', 'string'),\n",
       " ('diag_3', 'string'),\n",
       " ('number_diagnoses', 'int'),\n",
       " ('change', 'string'),\n",
       " ('diabetesMed', 'string'),\n",
       " ('readmitted', 'string')]"
      ]
     },
     "execution_count": 13,
     "metadata": {},
     "output_type": "execute_result"
    }
   ],
   "source": [
    "patients_data.dtypes"
   ]
  },
  {
   "cell_type": "code",
   "execution_count": 6,
   "metadata": {},
   "outputs": [],
   "source": [
    "intCols_patients_data = [i[0] for i in patients_data.dtypes if i[1].startswith('int')]"
   ]
  },
  {
   "cell_type": "code",
   "execution_count": 7,
   "metadata": {},
   "outputs": [
    {
     "data": {
      "text/plain": [
       "['encounter_id',\n",
       " 'patient_nbr',\n",
       " 'admission_type_id',\n",
       " 'discharge_disposition_id',\n",
       " 'admission_source_id',\n",
       " 'time_in_hospital',\n",
       " 'num_lab_procedures',\n",
       " 'num_procedures',\n",
       " 'num_medications',\n",
       " 'number_outpatient',\n",
       " 'number_emergency',\n",
       " 'number_inpatient',\n",
       " 'number_diagnoses']"
      ]
     },
     "execution_count": 7,
     "metadata": {},
     "output_type": "execute_result"
    }
   ],
   "source": [
    "intCols_patients_data"
   ]
  },
  {
   "cell_type": "code",
   "execution_count": 8,
   "metadata": {},
   "outputs": [],
   "source": [
    "quartiles = {\n",
    "    c: dict(\n",
    "        zip([\"q1\", \"q3\"], patients_data.approxQuantile(c, [0.25, 0.75], 0))\n",
    "    )\n",
    "    for c in intCols_patients_data\n",
    "}"
   ]
  },
  {
   "cell_type": "code",
   "execution_count": 9,
   "metadata": {},
   "outputs": [],
   "source": [
    "for c in quartiles:\n",
    "    iqr = quartiles[c]['q3'] - quartiles[c]['q1']\n",
    "    quartiles[c]['lower'] = quartiles[c]['q1'] - (iqr * 1.5)\n",
    "    quartiles[c]['upper'] = quartiles[c]['q3'] + (iqr * 1.5)"
   ]
  },
  {
   "cell_type": "code",
   "execution_count": 12,
   "metadata": {},
   "outputs": [
    {
     "name": "stdout",
     "output_type": "stream",
     "text": [
      "+------------+-----------+---------------+------+--------+------+-----------------+------------------------+-------------------+----------------+----------+--------------------+------------------+--------------+---------------+-----------------+----------------+----------------+------+------+------+----------------+------+-----------+----------+---------------------+--------------------+--------------------------+---------------------------------+----------------------------+-------------------------+---------------------------+-----------------------+------------------------+--------------------------+-------------------------+-------------------------+-------------------------+\n",
      "|encounter_id|patient_nbr|           race|gender|     age|weight|admission_type_id|discharge_disposition_id|admission_source_id|time_in_hospital|payer_code|   medical_specialty|num_lab_procedures|num_procedures|num_medications|number_outpatient|number_emergency|number_inpatient|diag_1|diag_2|diag_3|number_diagnoses|change|diabetesMed|readmitted|encounter_id_outliers|patient_nbr_outliers|admission_type_id_outliers|discharge_disposition_id_outliers|admission_source_id_outliers|time_in_hospital_outliers|num_lab_procedures_outliers|num_procedures_outliers|num_medications_outliers|number_outpatient_outliers|number_emergency_outliers|number_inpatient_outliers|number_diagnoses_outliers|\n",
      "+------------+-----------+---------------+------+--------+------+-----------------+------------------------+-------------------+----------------+----------+--------------------+------------------+--------------+---------------+-----------------+----------------+----------------+------+------+------+----------------+------+-----------+----------+---------------------+--------------------+--------------------------+---------------------------------+----------------------------+-------------------------+---------------------------+-----------------------+------------------------+--------------------------+-------------------------+-------------------------+-------------------------+\n",
      "|     2278392|    8222157|      Caucasian|Female|  [0-10)|     ?|                6|                      25|                  1|               1|         ?|Pediatrics-Endocr...|                41|             0|              1|                0|               0|               0|250.83|     ?|     ?|               1|    No|         No|        NO|                 true|                true|                      true|                            false|                        true|                     true|                       true|                   true|                    true|                      true|                     true|                     true|                    false|\n",
      "|      149190|   55629189|      Caucasian|Female| [10-20)|     ?|                1|                       1|                  7|               3|         ?|                   ?|                59|             0|             18|                0|               0|               0|   276|250.01|   255|               9|    Ch|        Yes|       >30|                 true|                true|                      true|                             true|                        true|                     true|                       true|                   true|                    true|                      true|                     true|                     true|                     true|\n",
      "|       64410|   86047875|AfricanAmerican|Female| [20-30)|     ?|                1|                       1|                  7|               2|         ?|                   ?|                11|             5|             13|                2|               0|               1|   648|   250|   V27|               6|    No|        Yes|        NO|                 true|                true|                      true|                             true|                        true|                     true|                       true|                   true|                    true|                     false|                     true|                     true|                     true|\n",
      "|      500364|   82442376|      Caucasian|  Male| [30-40)|     ?|                1|                       1|                  7|               2|         ?|                   ?|                44|             1|             16|                0|               0|               0|     8|250.43|   403|               7|    Ch|        Yes|        NO|                 true|                true|                      true|                             true|                        true|                     true|                       true|                   true|                    true|                      true|                     true|                     true|                     true|\n",
      "|       16680|   42519267|      Caucasian|  Male| [40-50)|     ?|                1|                       1|                  7|               1|         ?|                   ?|                51|             0|              8|                0|               0|               0|   197|   157|   250|               5|    Ch|        Yes|        NO|                 true|                true|                      true|                             true|                        true|                     true|                       true|                   true|                    true|                      true|                     true|                     true|                     true|\n",
      "|       35754|   82637451|      Caucasian|  Male| [50-60)|     ?|                2|                       1|                  2|               3|         ?|                   ?|                31|             6|             16|                0|               0|               0|   414|   411|   250|               9|    No|        Yes|       >30|                 true|                true|                      true|                             true|                        true|                     true|                       true|                  false|                    true|                      true|                     true|                     true|                     true|\n",
      "|       55842|   84259809|      Caucasian|  Male| [60-70)|     ?|                3|                       1|                  2|               4|         ?|                   ?|                70|             1|             21|                0|               0|               0|   414|   411|   V45|               7|    Ch|        Yes|        NO|                 true|                true|                      true|                             true|                        true|                     true|                       true|                   true|                    true|                      true|                     true|                     true|                     true|\n",
      "|       63768|  114882984|      Caucasian|  Male| [70-80)|     ?|                1|                       1|                  7|               5|         ?|                   ?|                73|             0|             12|                0|               0|               0|   428|   492|   250|               8|    No|        Yes|       >30|                 true|                true|                      true|                             true|                        true|                     true|                       true|                   true|                    true|                      true|                     true|                     true|                     true|\n",
      "|       12522|   48330783|      Caucasian|Female| [80-90)|     ?|                2|                       1|                  4|              13|         ?|                   ?|                68|             2|             28|                0|               0|               0|   398|   427|    38|               8|    Ch|        Yes|        NO|                 true|                true|                      true|                             true|                        true|                    false|                       true|                   true|                    true|                      true|                     true|                     true|                     true|\n",
      "|       15738|   63555939|      Caucasian|Female|[90-100)|     ?|                3|                       3|                  4|              12|         ?|    InternalMedicine|                33|             3|             18|                0|               0|               0|   434|   198|   486|               8|    Ch|        Yes|        NO|                 true|                true|                      true|                             true|                        true|                     true|                       true|                   true|                    true|                      true|                     true|                     true|                     true|\n",
      "|       28236|   89869032|AfricanAmerican|Female| [40-50)|     ?|                1|                       1|                  7|               9|         ?|                   ?|                47|             2|             17|                0|               0|               0| 250.7|   403|   996|               9|    No|        Yes|       >30|                 true|                true|                      true|                             true|                        true|                     true|                       true|                   true|                    true|                      true|                     true|                     true|                     true|\n",
      "|       36900|   77391171|AfricanAmerican|  Male| [60-70)|     ?|                2|                       1|                  4|               7|         ?|                   ?|                62|             0|             11|                0|               0|               0|   157|   288|   197|               7|    Ch|        Yes|       <30|                 true|                true|                      true|                             true|                        true|                     true|                       true|                   true|                    true|                      true|                     true|                     true|                     true|\n",
      "|       40926|   85504905|      Caucasian|Female| [40-50)|     ?|                1|                       3|                  7|               7|         ?|Family/GeneralPra...|                60|             0|             15|                0|               1|               0|   428|250.43| 250.6|               8|    Ch|        Yes|       <30|                 true|                true|                      true|                             true|                        true|                     true|                       true|                   true|                    true|                      true|                    false|                     true|                     true|\n",
      "|       42570|   77586282|      Caucasian|  Male| [80-90)|     ?|                1|                       6|                  7|              10|         ?|Family/GeneralPra...|                55|             1|             31|                0|               0|               0|   428|   411|   427|               8|    No|        Yes|        NO|                 true|                true|                      true|                             true|                        true|                     true|                       true|                   true|                    true|                      true|                     true|                     true|                     true|\n",
      "|       62256|   49726791|AfricanAmerican|Female| [60-70)|     ?|                3|                       1|                  2|               1|         ?|                   ?|                49|             5|              2|                0|               0|               0|   518|   998|   627|               8|    No|        Yes|       >30|                 true|                true|                      true|                             true|                        true|                     true|                       true|                   true|                    true|                      true|                     true|                     true|                     true|\n",
      "|       73578|   86328819|AfricanAmerican|  Male| [60-70)|     ?|                1|                       3|                  7|              12|         ?|                   ?|                75|             5|             13|                0|               0|               0|   999|   507|   996|               9|    Ch|        Yes|        NO|                 true|                true|                      true|                             true|                        true|                     true|                       true|                   true|                    true|                      true|                     true|                     true|                     true|\n",
      "|       77076|   92519352|AfricanAmerican|  Male| [50-60)|     ?|                1|                       1|                  7|               4|         ?|                   ?|                45|             4|             17|                0|               0|               0|   410|   411|   414|               8|    Ch|        Yes|       <30|                 true|                true|                      true|                             true|                        true|                     true|                       true|                   true|                    true|                      true|                     true|                     true|                     true|\n",
      "|       84222|  108662661|      Caucasian|Female| [50-60)|     ?|                1|                       1|                  7|               3|         ?|          Cardiology|                29|             0|             11|                0|               0|               0|   682|   174|   250|               3|    No|        Yes|        NO|                 true|                true|                      true|                             true|                        true|                     true|                       true|                   true|                    true|                      true|                     true|                     true|                     true|\n",
      "|       89682|  107389323|AfricanAmerican|  Male| [70-80)|     ?|                1|                       1|                  7|               5|         ?|                   ?|                35|             5|             23|                0|               0|               0|   402|   425|   416|               9|    No|        Yes|       >30|                 true|                true|                      true|                             true|                        true|                     true|                       true|                   true|                    true|                      true|                     true|                     true|                     true|\n",
      "|      148530|   69422211|              ?|  Male| [70-80)|     ?|                3|                       6|                  2|               6|         ?|                   ?|                42|             2|             23|                0|               0|               0|   737|   427|   714|               8|    Ch|        Yes|        NO|                 true|                true|                      true|                             true|                        true|                     true|                       true|                   true|                    true|                      true|                     true|                     true|                     true|\n",
      "+------------+-----------+---------------+------+--------+------+-----------------+------------------------+-------------------+----------------+----------+--------------------+------------------+--------------+---------------+-----------------+----------------+----------------+------+------+------+----------------+------+-----------+----------+---------------------+--------------------+--------------------------+---------------------------------+----------------------------+-------------------------+---------------------------+-----------------------+------------------------+--------------------------+-------------------------+-------------------------+-------------------------+\n",
      "only showing top 20 rows\n",
      "\n"
     ]
    }
   ],
   "source": [
    "patients_data.select(\n",
    "    \"*\",\n",
    "    *[\n",
    "        f.when(\n",
    "            f.col(c).between(quartiles[c]['lower'], quartiles[c]['upper']),\n",
    "            True\n",
    "        ).otherwise(False).alias(c+\"_outliers\") \n",
    "        for c in intCols_patients_data\n",
    "    ]\n",
    ").show()"
   ]
  },
  {
   "cell_type": "code",
   "execution_count": 13,
   "metadata": {},
   "outputs": [],
   "source": [
    "intCols_medications_data = [i[0] for i in medications_data.dtypes if i[1].startswith('int')]"
   ]
  },
  {
   "cell_type": "code",
   "execution_count": 14,
   "metadata": {},
   "outputs": [
    {
     "data": {
      "text/plain": [
       "['encounter_id', 'patient_nbr']"
      ]
     },
     "execution_count": 14,
     "metadata": {},
     "output_type": "execute_result"
    }
   ],
   "source": [
    "intCols_medications_data"
   ]
  },
  {
   "cell_type": "code",
   "execution_count": 15,
   "metadata": {},
   "outputs": [],
   "source": [
    "quartiles = {\n",
    "    c: dict(\n",
    "        zip([\"q1\", \"q3\"], medications_data.approxQuantile(c, [0.25, 0.75], 0))\n",
    "    )\n",
    "    for c in intCols_medications_data\n",
    "}"
   ]
  },
  {
   "cell_type": "code",
   "execution_count": 16,
   "metadata": {},
   "outputs": [],
   "source": [
    "for c in quartiles:\n",
    "    iqr = quartiles[c]['q3'] - quartiles[c]['q1']\n",
    "    quartiles[c]['lower'] = quartiles[c]['q1'] - (iqr * 1.5)\n",
    "    quartiles[c]['upper'] = quartiles[c]['q3'] + (iqr * 1.5)"
   ]
  },
  {
   "cell_type": "code",
   "execution_count": 17,
   "metadata": {
    "scrolled": true
   },
   "outputs": [
    {
     "name": "stdout",
     "output_type": "stream",
     "text": [
      "+------------+-----------+-------------+---------+---------+-----------+-----------+--------------+-----------+-------------+---------+---------+-----------+------------+-------------+--------+--------+------------+----------+-------+-----------+-------+-------------------+-------------------+------------------------+-----------------------+----------------------+------+-----------+----------+---------------------+--------------------+\n",
      "|encounter_id|patient_nbr|max_glu_serum|A1Cresult|metformin|repaglinide|nateglinide|chlorpropamide|glimepiride|acetohexamide|glipizide|glyburide|tolbutamide|pioglitazone|rosiglitazone|acarbose|miglitol|troglitazone|tolazamide|examide|citoglipton|insulin|glyburide-metformin|glipizide-metformin|glimepiride-pioglitazone|metformin-rosiglitazone|metformin-pioglitazone|change|diabetesMed|readmitted|encounter_id_outliers|patient_nbr_outliers|\n",
      "+------------+-----------+-------------+---------+---------+-----------+-----------+--------------+-----------+-------------+---------+---------+-----------+------------+-------------+--------+--------+------------+----------+-------+-----------+-------+-------------------+-------------------+------------------------+-----------------------+----------------------+------+-----------+----------+---------------------+--------------------+\n",
      "|     2278392|    8222157|         None|     None|       No|         No|         No|            No|         No|           No|       No|       No|         No|          No|           No|      No|      No|          No|        No|     No|         No|     No|                 No|                 No|                      No|                     No|                    No|    No|         No|        NO|                 true|                true|\n",
      "|      149190|   55629189|         None|     None|       No|         No|         No|            No|         No|           No|       No|       No|         No|          No|           No|      No|      No|          No|        No|     No|         No|     Up|                 No|                 No|                      No|                     No|                    No|    Ch|        Yes|       >30|                 true|                true|\n",
      "|       64410|   86047875|         None|     None|       No|         No|         No|            No|         No|           No|   Steady|       No|         No|          No|           No|      No|      No|          No|        No|     No|         No|     No|                 No|                 No|                      No|                     No|                    No|    No|        Yes|        NO|                 true|                true|\n",
      "|      500364|   82442376|         None|     None|       No|         No|         No|            No|         No|           No|       No|       No|         No|          No|           No|      No|      No|          No|        No|     No|         No|     Up|                 No|                 No|                      No|                     No|                    No|    Ch|        Yes|        NO|                 true|                true|\n",
      "|       16680|   42519267|         None|     None|       No|         No|         No|            No|         No|           No|   Steady|       No|         No|          No|           No|      No|      No|          No|        No|     No|         No| Steady|                 No|                 No|                      No|                     No|                    No|    Ch|        Yes|        NO|                 true|                true|\n",
      "|       35754|   82637451|         None|     None|       No|         No|         No|            No|         No|           No|       No|       No|         No|          No|           No|      No|      No|          No|        No|     No|         No| Steady|                 No|                 No|                      No|                     No|                    No|    No|        Yes|       >30|                 true|                true|\n",
      "|       55842|   84259809|         None|     None|   Steady|         No|         No|            No|     Steady|           No|       No|       No|         No|          No|           No|      No|      No|          No|        No|     No|         No| Steady|                 No|                 No|                      No|                     No|                    No|    Ch|        Yes|        NO|                 true|                true|\n",
      "|       63768|  114882984|         None|     None|       No|         No|         No|            No|         No|           No|       No|   Steady|         No|          No|           No|      No|      No|          No|        No|     No|         No|     No|                 No|                 No|                      No|                     No|                    No|    No|        Yes|       >30|                 true|                true|\n",
      "|       12522|   48330783|         None|     None|       No|         No|         No|            No|         No|           No|   Steady|       No|         No|          No|           No|      No|      No|          No|        No|     No|         No| Steady|                 No|                 No|                      No|                     No|                    No|    Ch|        Yes|        NO|                 true|                true|\n",
      "|       15738|   63555939|         None|     None|       No|         No|         No|            No|         No|           No|       No|       No|         No|          No|       Steady|      No|      No|          No|        No|     No|         No| Steady|                 No|                 No|                      No|                     No|                    No|    Ch|        Yes|        NO|                 true|                true|\n",
      "|       28236|   89869032|         None|     None|       No|         No|         No|            No|         No|           No|       No|       No|         No|          No|           No|      No|      No|          No|        No|     No|         No| Steady|                 No|                 No|                      No|                     No|                    No|    No|        Yes|       >30|                 true|                true|\n",
      "|       36900|   77391171|         None|     None|       No|         No|         No|            No|         No|           No|       No|       Up|         No|          No|           No|      No|      No|          No|        No|     No|         No| Steady|                 No|                 No|                      No|                     No|                    No|    Ch|        Yes|       <30|                 true|                true|\n",
      "|       40926|   85504905|         None|     None|   Steady|         Up|         No|            No|         No|           No|       No|       No|         No|          No|           No|      No|      No|          No|        No|     No|         No|   Down|                 No|                 No|                      No|                     No|                    No|    Ch|        Yes|       <30|                 true|                true|\n",
      "|       42570|   77586282|         None|     None|       No|         No|         No|            No|         No|           No|       No|       No|         No|          No|           No|      No|      No|          No|        No|     No|         No| Steady|                 No|                 No|                      No|                     No|                    No|    No|        Yes|        NO|                 true|                true|\n",
      "|       62256|   49726791|         None|     None|       No|         No|         No|            No|         No|           No|       No|       No|         No|          No|           No|      No|      No|          No|        No|     No|         No| Steady|                 No|                 No|                      No|                     No|                    No|    No|        Yes|       >30|                 true|                true|\n",
      "|       73578|   86328819|         None|     None|       No|         No|         No|            No|         No|           No|       No|       No|         No|          No|           No|      No|      No|          No|        No|     No|         No|     Up|                 No|                 No|                      No|                     No|                    No|    Ch|        Yes|        NO|                 true|                true|\n",
      "|       77076|   92519352|         None|     None|       No|         No|         No|            No|         No|           No|   Steady|       No|         No|          No|           No|      No|      No|          No|        No|     No|         No| Steady|                 No|                 No|                      No|                     No|                    No|    Ch|        Yes|       <30|                 true|                true|\n",
      "|       84222|  108662661|         None|     None|       No|         No|         No|            No|         No|           No|       No|   Steady|         No|          No|           No|      No|      No|          No|        No|     No|         No|     No|                 No|                 No|                      No|                     No|                    No|    No|        Yes|        NO|                 true|                true|\n",
      "|       89682|  107389323|         None|     None|       No|         No|         No|            No|         No|           No|       No|       No|         No|          No|           No|      No|      No|          No|        No|     No|         No| Steady|                 No|                 No|                      No|                     No|                    No|    No|        Yes|       >30|                 true|                true|\n",
      "|      148530|   69422211|         None|     None|       No|         No|         No|            No|         No|           No|       No|     Down|         No|          No|           No|      No|      No|          No|        No|     No|         No| Steady|                 No|                 No|                      No|                     No|                    No|    Ch|        Yes|        NO|                 true|                true|\n",
      "+------------+-----------+-------------+---------+---------+-----------+-----------+--------------+-----------+-------------+---------+---------+-----------+------------+-------------+--------+--------+------------+----------+-------+-----------+-------+-------------------+-------------------+------------------------+-----------------------+----------------------+------+-----------+----------+---------------------+--------------------+\n",
      "only showing top 20 rows\n",
      "\n"
     ]
    }
   ],
   "source": [
    "medications_data.select(\n",
    "    \"*\",\n",
    "    *[\n",
    "        f.when(\n",
    "            f.col(c).between(quartiles[c]['lower'], quartiles[c]['upper']),\n",
    "            True\n",
    "        ).otherwise(False).alias(c+\"_outliers\") \n",
    "        for c in intCols_medications_data\n",
    "    ]\n",
    ").show()"
   ]
  },
  {
   "cell_type": "markdown",
   "metadata": {},
   "source": [
    "Step 3"
   ]
  },
  {
   "cell_type": "code",
   "execution_count": 25,
   "metadata": {},
   "outputs": [
    {
     "name": "stdout",
     "output_type": "stream",
     "text": [
      "+-------+--------------------+--------------------+------+---------------+--------+--------+------------------+------------------------+-------------------+-----------------+----------+-----------------+------------------+-----------------+------------------+-------------------+-------------------+-----------------+------------------+------------------+------------------+------------------+------+-----------+----------+\n",
      "|summary|        encounter_id|         patient_nbr|  race|         gender|     age|  weight| admission_type_id|discharge_disposition_id|admission_source_id| time_in_hospital|payer_code|medical_specialty|num_lab_procedures|   num_procedures|   num_medications|  number_outpatient|   number_emergency| number_inpatient|            diag_1|            diag_2|            diag_3|  number_diagnoses|change|diabetesMed|readmitted|\n",
      "+-------+--------------------+--------------------+------+---------------+--------+--------+------------------+------------------------+-------------------+-----------------+----------+-----------------+------------------+-----------------+------------------+-------------------+-------------------+-----------------+------------------+------------------+------------------+------------------+------+-----------+----------+\n",
      "|  count|              101766|              101766|101766|         101766|  101766|  101766|            101766|                  101766|             101766|           101766|    101766|           101766|            101766|           101766|            101766|             101766|             101766|           101766|            101766|            101766|            101766|            101766|101766|     101766|    101766|\n",
      "|   mean| 1.652016456229782E8|5.4330400694947235E7|  null|           null|    null|    null| 2.024006053102215|      3.7156417664052825|  5.754436648782501|4.395986871843248|      null|             null| 43.09564098028811|1.339730361810428|16.021844230882614|0.36935715268360747|0.19783621248747127|0.635565906098304| 493.5830703296812|438.67488318230863|418.17928540694663| 7.422606764538254|  null|       null|      null|\n",
      "| stddev|1.0264029598345788E8| 3.869635934653421E7|  null|           null|    null|    null|1.4454028297561132|       5.280165509299248|  4.064080834283912|2.985107767471267|      null|             null|19.674362249142096|1.705806979121172| 8.127566209167309| 1.2672650965326817| 0.9304722684224632| 1.26286329009732|206.71532043694555|178.90163753828557|177.32397864613674|1.9336001449974247|  null|       null|      null|\n",
      "|    min|               12522|                 135|     ?|         Female|  [0-10)|    >200|                 1|                       1|                  1|                1|         ?|                ?|                 1|                0|                 1|                  0|                  0|                0|                10|                11|                11|                 1|    Ch|         No|       <30|\n",
      "|    max|           443867222|           189502619| Other|Unknown/Invalid|[90-100)|[75-100)|                 8|                      28|                 25|               14|        WC|          Urology|               132|                6|                81|                 42|                 76|               21|               V71|               V86|               V86|                16|    No|        Yes|        NO|\n",
      "+-------+--------------------+--------------------+------+---------------+--------+--------+------------------+------------------------+-------------------+-----------------+----------+-----------------+------------------+-----------------+------------------+-------------------+-------------------+-----------------+------------------+------------------+------------------+------------------+------+-----------+----------+\n",
      "\n"
     ]
    }
   ],
   "source": [
    "patients_data.describe().show()"
   ]
  },
  {
   "cell_type": "code",
   "execution_count": 26,
   "metadata": {},
   "outputs": [
    {
     "name": "stdout",
     "output_type": "stream",
     "text": [
      "root\n",
      " |-- encounter_id: integer (nullable = true)\n",
      " |-- patient_nbr: integer (nullable = true)\n",
      " |-- race: string (nullable = true)\n",
      " |-- gender: string (nullable = true)\n",
      " |-- age: string (nullable = true)\n",
      " |-- weight: string (nullable = true)\n",
      " |-- admission_type_id: integer (nullable = true)\n",
      " |-- discharge_disposition_id: integer (nullable = true)\n",
      " |-- admission_source_id: integer (nullable = true)\n",
      " |-- time_in_hospital: integer (nullable = true)\n",
      " |-- payer_code: string (nullable = true)\n",
      " |-- medical_specialty: string (nullable = true)\n",
      " |-- num_lab_procedures: integer (nullable = true)\n",
      " |-- num_procedures: integer (nullable = true)\n",
      " |-- num_medications: integer (nullable = true)\n",
      " |-- number_outpatient: integer (nullable = true)\n",
      " |-- number_emergency: integer (nullable = true)\n",
      " |-- number_inpatient: integer (nullable = true)\n",
      " |-- diag_1: string (nullable = true)\n",
      " |-- diag_2: string (nullable = true)\n",
      " |-- diag_3: string (nullable = true)\n",
      " |-- number_diagnoses: integer (nullable = true)\n",
      " |-- change: string (nullable = true)\n",
      " |-- diabetesMed: string (nullable = true)\n",
      " |-- readmitted: string (nullable = true)\n",
      "\n"
     ]
    }
   ],
   "source": [
    "patients_data.printSchema()"
   ]
  },
  {
   "cell_type": "code",
   "execution_count": 27,
   "metadata": {},
   "outputs": [
    {
     "name": "stdout",
     "output_type": "stream",
     "text": [
      "+-------+--------------------+--------------------+-------------+---------+---------+-----------+-----------+--------------+-----------+-------------+---------+---------+-----------+------------+-------------+--------+--------+------------+----------+-------+-----------+-------+-------------------+-------------------+------------------------+-----------------------+----------------------+------+-----------+----------+\n",
      "|summary|        encounter_id|         patient_nbr|max_glu_serum|A1Cresult|metformin|repaglinide|nateglinide|chlorpropamide|glimepiride|acetohexamide|glipizide|glyburide|tolbutamide|pioglitazone|rosiglitazone|acarbose|miglitol|troglitazone|tolazamide|examide|citoglipton|insulin|glyburide-metformin|glipizide-metformin|glimepiride-pioglitazone|metformin-rosiglitazone|metformin-pioglitazone|change|diabetesMed|readmitted|\n",
      "+-------+--------------------+--------------------+-------------+---------+---------+-----------+-----------+--------------+-----------+-------------+---------+---------+-----------+------------+-------------+--------+--------+------------+----------+-------+-----------+-------+-------------------+-------------------+------------------------+-----------------------+----------------------+------+-----------+----------+\n",
      "|  count|              101766|              101766|       101766|   101766|   101766|     101766|     101766|        101766|     101766|       101766|   101766|   101766|     101766|      101766|       101766|  101766|  101766|      101766|    101766| 101766|     101766| 101766|             101766|             101766|                  101766|                 101766|                101766|101766|     101766|    101766|\n",
      "|   mean| 1.652016456229782E8|5.4330400694947235E7|         null|     null|     null|       null|       null|          null|       null|         null|     null|     null|       null|        null|         null|    null|    null|        null|      null|   null|       null|   null|               null|               null|                    null|                   null|                  null|  null|       null|      null|\n",
      "| stddev|1.0264029598345788E8| 3.869635934653421E7|         null|     null|     null|       null|       null|          null|       null|         null|     null|     null|       null|        null|         null|    null|    null|        null|      null|   null|       null|   null|               null|               null|                    null|                   null|                  null|  null|       null|      null|\n",
      "|    min|               12522|                 135|         >200|       >7|     Down|       Down|       Down|          Down|       Down|           No|     Down|     Down|         No|        Down|         Down|    Down|    Down|          No|        No|     No|         No|   Down|               Down|                 No|                      No|                     No|                    No|    Ch|         No|       <30|\n",
      "|    max|           443867222|           189502619|         Norm|     Norm|       Up|         Up|         Up|            Up|         Up|       Steady|       Up|       Up|     Steady|          Up|           Up|      Up|      Up|      Steady|        Up|     No|         No|     Up|                 Up|             Steady|                  Steady|                 Steady|                Steady|    No|        Yes|        NO|\n",
      "+-------+--------------------+--------------------+-------------+---------+---------+-----------+-----------+--------------+-----------+-------------+---------+---------+-----------+------------+-------------+--------+--------+------------+----------+-------+-----------+-------+-------------------+-------------------+------------------------+-----------------------+----------------------+------+-----------+----------+\n",
      "\n"
     ]
    }
   ],
   "source": [
    "medications_data.describe().show()"
   ]
  },
  {
   "cell_type": "code",
   "execution_count": 28,
   "metadata": {},
   "outputs": [
    {
     "name": "stdout",
     "output_type": "stream",
     "text": [
      "root\n",
      " |-- encounter_id: integer (nullable = true)\n",
      " |-- patient_nbr: integer (nullable = true)\n",
      " |-- max_glu_serum: string (nullable = true)\n",
      " |-- A1Cresult: string (nullable = true)\n",
      " |-- metformin: string (nullable = true)\n",
      " |-- repaglinide: string (nullable = true)\n",
      " |-- nateglinide: string (nullable = true)\n",
      " |-- chlorpropamide: string (nullable = true)\n",
      " |-- glimepiride: string (nullable = true)\n",
      " |-- acetohexamide: string (nullable = true)\n",
      " |-- glipizide: string (nullable = true)\n",
      " |-- glyburide: string (nullable = true)\n",
      " |-- tolbutamide: string (nullable = true)\n",
      " |-- pioglitazone: string (nullable = true)\n",
      " |-- rosiglitazone: string (nullable = true)\n",
      " |-- acarbose: string (nullable = true)\n",
      " |-- miglitol: string (nullable = true)\n",
      " |-- troglitazone: string (nullable = true)\n",
      " |-- tolazamide: string (nullable = true)\n",
      " |-- examide: string (nullable = true)\n",
      " |-- citoglipton: string (nullable = true)\n",
      " |-- insulin: string (nullable = true)\n",
      " |-- glyburide-metformin: string (nullable = true)\n",
      " |-- glipizide-metformin: string (nullable = true)\n",
      " |-- glimepiride-pioglitazone: string (nullable = true)\n",
      " |-- metformin-rosiglitazone: string (nullable = true)\n",
      " |-- metformin-pioglitazone: string (nullable = true)\n",
      " |-- change: string (nullable = true)\n",
      " |-- diabetesMed: string (nullable = true)\n",
      " |-- readmitted: string (nullable = true)\n",
      "\n"
     ]
    }
   ],
   "source": [
    "medications_data.printSchema()"
   ]
  },
  {
   "cell_type": "code",
   "execution_count": 29,
   "metadata": {},
   "outputs": [
    {
     "name": "stdout",
     "output_type": "stream",
     "text": [
      "+------------+-----------+----+------+---+------+-----------------+------------------------+-------------------+----------------+----------+-----------------+------------------+--------------+---------------+-----------------+----------------+----------------+------+------+------+----------------+------+-----------+----------+\n",
      "|encounter_id|patient_nbr|race|gender|age|weight|admission_type_id|discharge_disposition_id|admission_source_id|time_in_hospital|payer_code|medical_specialty|num_lab_procedures|num_procedures|num_medications|number_outpatient|number_emergency|number_inpatient|diag_1|diag_2|diag_3|number_diagnoses|change|diabetesMed|readmitted|\n",
      "+------------+-----------+----+------+---+------+-----------------+------------------------+-------------------+----------------+----------+-----------------+------------------+--------------+---------------+-----------------+----------------+----------------+------+------+------+----------------+------+-----------+----------+\n",
      "|           0|          0|   0|     0|  0|     0|                0|                       0|                  0|               0|         0|                0|                 0|             0|              0|                0|               0|               0|     0|     0|     0|               0|     0|          0|         0|\n",
      "+------------+-----------+----+------+---+------+-----------------+------------------------+-------------------+----------------+----------+-----------------+------------------+--------------+---------------+-----------------+----------------+----------------+------+------+------+----------------+------+-----------+----------+\n",
      "\n"
     ]
    }
   ],
   "source": [
    "patients_data.select([count(when(isnan(c), c)).alias(c) for c in patients_data.columns]).show()"
   ]
  },
  {
   "cell_type": "code",
   "execution_count": 5,
   "metadata": {},
   "outputs": [],
   "source": [
    "columns_to_drop = ['weight', 'payer_code','medical_specialty']\n",
    "patients_data = patients_data.drop(*columns_to_drop)"
   ]
  },
  {
   "cell_type": "code",
   "execution_count": 6,
   "metadata": {
    "scrolled": true
   },
   "outputs": [
    {
     "name": "stdout",
     "output_type": "stream",
     "text": [
      "+------------+-----------+---------------+------+--------+-----------------+------------------------+-------------------+----------------+------------------+--------------+---------------+-----------------+----------------+----------------+------+------+------+----------------+------+-----------+----------+\n",
      "|encounter_id|patient_nbr|           race|gender|     age|admission_type_id|discharge_disposition_id|admission_source_id|time_in_hospital|num_lab_procedures|num_procedures|num_medications|number_outpatient|number_emergency|number_inpatient|diag_1|diag_2|diag_3|number_diagnoses|change|diabetesMed|readmitted|\n",
      "+------------+-----------+---------------+------+--------+-----------------+------------------------+-------------------+----------------+------------------+--------------+---------------+-----------------+----------------+----------------+------+------+------+----------------+------+-----------+----------+\n",
      "|      149190|   55629189|      Caucasian|Female| [10-20)|                1|                       1|                  7|               3|                59|             0|             18|                0|               0|               0|   276|250.01|   255|               9|    Ch|        Yes|       >30|\n",
      "|       64410|   86047875|AfricanAmerican|Female| [20-30)|                1|                       1|                  7|               2|                11|             5|             13|                2|               0|               1|   648|   250|   V27|               6|    No|        Yes|        NO|\n",
      "|      500364|   82442376|      Caucasian|  Male| [30-40)|                1|                       1|                  7|               2|                44|             1|             16|                0|               0|               0|     8|250.43|   403|               7|    Ch|        Yes|        NO|\n",
      "|       16680|   42519267|      Caucasian|  Male| [40-50)|                1|                       1|                  7|               1|                51|             0|              8|                0|               0|               0|   197|   157|   250|               5|    Ch|        Yes|        NO|\n",
      "|       35754|   82637451|      Caucasian|  Male| [50-60)|                2|                       1|                  2|               3|                31|             6|             16|                0|               0|               0|   414|   411|   250|               9|    No|        Yes|       >30|\n",
      "|       55842|   84259809|      Caucasian|  Male| [60-70)|                3|                       1|                  2|               4|                70|             1|             21|                0|               0|               0|   414|   411|   V45|               7|    Ch|        Yes|        NO|\n",
      "|       63768|  114882984|      Caucasian|  Male| [70-80)|                1|                       1|                  7|               5|                73|             0|             12|                0|               0|               0|   428|   492|   250|               8|    No|        Yes|       >30|\n",
      "|       12522|   48330783|      Caucasian|Female| [80-90)|                2|                       1|                  4|              13|                68|             2|             28|                0|               0|               0|   398|   427|    38|               8|    Ch|        Yes|        NO|\n",
      "|       15738|   63555939|      Caucasian|Female|[90-100)|                3|                       3|                  4|              12|                33|             3|             18|                0|               0|               0|   434|   198|   486|               8|    Ch|        Yes|        NO|\n",
      "|       28236|   89869032|AfricanAmerican|Female| [40-50)|                1|                       1|                  7|               9|                47|             2|             17|                0|               0|               0| 250.7|   403|   996|               9|    No|        Yes|       >30|\n",
      "|       36900|   77391171|AfricanAmerican|  Male| [60-70)|                2|                       1|                  4|               7|                62|             0|             11|                0|               0|               0|   157|   288|   197|               7|    Ch|        Yes|       <30|\n",
      "|       40926|   85504905|      Caucasian|Female| [40-50)|                1|                       3|                  7|               7|                60|             0|             15|                0|               1|               0|   428|250.43| 250.6|               8|    Ch|        Yes|       <30|\n",
      "|       42570|   77586282|      Caucasian|  Male| [80-90)|                1|                       6|                  7|              10|                55|             1|             31|                0|               0|               0|   428|   411|   427|               8|    No|        Yes|        NO|\n",
      "|       62256|   49726791|AfricanAmerican|Female| [60-70)|                3|                       1|                  2|               1|                49|             5|              2|                0|               0|               0|   518|   998|   627|               8|    No|        Yes|       >30|\n",
      "|       73578|   86328819|AfricanAmerican|  Male| [60-70)|                1|                       3|                  7|              12|                75|             5|             13|                0|               0|               0|   999|   507|   996|               9|    Ch|        Yes|        NO|\n",
      "|       77076|   92519352|AfricanAmerican|  Male| [50-60)|                1|                       1|                  7|               4|                45|             4|             17|                0|               0|               0|   410|   411|   414|               8|    Ch|        Yes|       <30|\n",
      "|       84222|  108662661|      Caucasian|Female| [50-60)|                1|                       1|                  7|               3|                29|             0|             11|                0|               0|               0|   682|   174|   250|               3|    No|        Yes|        NO|\n",
      "|       89682|  107389323|AfricanAmerican|  Male| [70-80)|                1|                       1|                  7|               5|                35|             5|             23|                0|               0|               0|   402|   425|   416|               9|    No|        Yes|       >30|\n",
      "|      182796|   63000108|AfricanAmerican|Female| [70-80)|                2|                       1|                  4|               2|                47|             0|             12|                0|               0|               0|   410|   401|   582|               8|    No|         No|        NO|\n",
      "|      183930|  107400762|      Caucasian|Female| [80-90)|                2|                       6|                  1|              11|                42|             2|             19|                0|               0|               0|   V57|   715|   V43|               8|    No|         No|       >30|\n",
      "+------------+-----------+---------------+------+--------+-----------------+------------------------+-------------------+----------------+------------------+--------------+---------------+-----------------+----------------+----------------+------+------+------+----------------+------+-----------+----------+\n",
      "only showing top 20 rows\n",
      "\n"
     ]
    }
   ],
   "source": [
    "patients_data.createOrReplaceTempView('patients')\n",
    "patients_data = spark.sql(\"SELECT * FROM patients where race != '?' AND diag_1 != '?' AND diag_2 != '?' AND diag_3 != '?'\")\n",
    "patients_data.show()"
   ]
  },
  {
   "cell_type": "code",
   "execution_count": 7,
   "metadata": {},
   "outputs": [],
   "source": [
    "columns_to_drop = ['citoglipton', 'examide','medical_specialty']\n",
    "medications_data = medications_data.drop(*columns_to_drop)"
   ]
  },
  {
   "cell_type": "code",
   "execution_count": 7,
   "metadata": {},
   "outputs": [
    {
     "name": "stdout",
     "output_type": "stream",
     "text": [
      "+------------+-----------+-------------+---------+---------+-----------+-----------+--------------+-----------+-------------+---------+---------+-----------+------------+-------------+--------+--------+------------+----------+-------+-------------------+-------------------+------------------------+-----------------------+----------------------+------+-----------+----------+\n",
      "|encounter_id|patient_nbr|max_glu_serum|A1Cresult|metformin|repaglinide|nateglinide|chlorpropamide|glimepiride|acetohexamide|glipizide|glyburide|tolbutamide|pioglitazone|rosiglitazone|acarbose|miglitol|troglitazone|tolazamide|insulin|glyburide-metformin|glipizide-metformin|glimepiride-pioglitazone|metformin-rosiglitazone|metformin-pioglitazone|change|diabetesMed|readmitted|\n",
      "+------------+-----------+-------------+---------+---------+-----------+-----------+--------------+-----------+-------------+---------+---------+-----------+------------+-------------+--------+--------+------------+----------+-------+-------------------+-------------------+------------------------+-----------------------+----------------------+------+-----------+----------+\n",
      "|     2278392|    8222157|         None|     None|       No|         No|         No|            No|         No|           No|       No|       No|         No|          No|           No|      No|      No|          No|        No|     No|                 No|                 No|                      No|                     No|                    No|    No|         No|        NO|\n",
      "|      149190|   55629189|         None|     None|       No|         No|         No|            No|         No|           No|       No|       No|         No|          No|           No|      No|      No|          No|        No|     Up|                 No|                 No|                      No|                     No|                    No|    Ch|        Yes|       >30|\n",
      "|       64410|   86047875|         None|     None|       No|         No|         No|            No|         No|           No|   Steady|       No|         No|          No|           No|      No|      No|          No|        No|     No|                 No|                 No|                      No|                     No|                    No|    No|        Yes|        NO|\n",
      "|      500364|   82442376|         None|     None|       No|         No|         No|            No|         No|           No|       No|       No|         No|          No|           No|      No|      No|          No|        No|     Up|                 No|                 No|                      No|                     No|                    No|    Ch|        Yes|        NO|\n",
      "|       16680|   42519267|         None|     None|       No|         No|         No|            No|         No|           No|   Steady|       No|         No|          No|           No|      No|      No|          No|        No| Steady|                 No|                 No|                      No|                     No|                    No|    Ch|        Yes|        NO|\n",
      "|       35754|   82637451|         None|     None|       No|         No|         No|            No|         No|           No|       No|       No|         No|          No|           No|      No|      No|          No|        No| Steady|                 No|                 No|                      No|                     No|                    No|    No|        Yes|       >30|\n",
      "|       55842|   84259809|         None|     None|   Steady|         No|         No|            No|     Steady|           No|       No|       No|         No|          No|           No|      No|      No|          No|        No| Steady|                 No|                 No|                      No|                     No|                    No|    Ch|        Yes|        NO|\n",
      "|       63768|  114882984|         None|     None|       No|         No|         No|            No|         No|           No|       No|   Steady|         No|          No|           No|      No|      No|          No|        No|     No|                 No|                 No|                      No|                     No|                    No|    No|        Yes|       >30|\n",
      "|       12522|   48330783|         None|     None|       No|         No|         No|            No|         No|           No|   Steady|       No|         No|          No|           No|      No|      No|          No|        No| Steady|                 No|                 No|                      No|                     No|                    No|    Ch|        Yes|        NO|\n",
      "|       15738|   63555939|         None|     None|       No|         No|         No|            No|         No|           No|       No|       No|         No|          No|       Steady|      No|      No|          No|        No| Steady|                 No|                 No|                      No|                     No|                    No|    Ch|        Yes|        NO|\n",
      "|       28236|   89869032|         None|     None|       No|         No|         No|            No|         No|           No|       No|       No|         No|          No|           No|      No|      No|          No|        No| Steady|                 No|                 No|                      No|                     No|                    No|    No|        Yes|       >30|\n",
      "|       36900|   77391171|         None|     None|       No|         No|         No|            No|         No|           No|       No|       Up|         No|          No|           No|      No|      No|          No|        No| Steady|                 No|                 No|                      No|                     No|                    No|    Ch|        Yes|       <30|\n",
      "|       40926|   85504905|         None|     None|   Steady|         Up|         No|            No|         No|           No|       No|       No|         No|          No|           No|      No|      No|          No|        No|   Down|                 No|                 No|                      No|                     No|                    No|    Ch|        Yes|       <30|\n",
      "|       42570|   77586282|         None|     None|       No|         No|         No|            No|         No|           No|       No|       No|         No|          No|           No|      No|      No|          No|        No| Steady|                 No|                 No|                      No|                     No|                    No|    No|        Yes|        NO|\n",
      "|       62256|   49726791|         None|     None|       No|         No|         No|            No|         No|           No|       No|       No|         No|          No|           No|      No|      No|          No|        No| Steady|                 No|                 No|                      No|                     No|                    No|    No|        Yes|       >30|\n",
      "|       73578|   86328819|         None|     None|       No|         No|         No|            No|         No|           No|       No|       No|         No|          No|           No|      No|      No|          No|        No|     Up|                 No|                 No|                      No|                     No|                    No|    Ch|        Yes|        NO|\n",
      "|       77076|   92519352|         None|     None|       No|         No|         No|            No|         No|           No|   Steady|       No|         No|          No|           No|      No|      No|          No|        No| Steady|                 No|                 No|                      No|                     No|                    No|    Ch|        Yes|       <30|\n",
      "|       84222|  108662661|         None|     None|       No|         No|         No|            No|         No|           No|       No|   Steady|         No|          No|           No|      No|      No|          No|        No|     No|                 No|                 No|                      No|                     No|                    No|    No|        Yes|        NO|\n",
      "|       89682|  107389323|         None|     None|       No|         No|         No|            No|         No|           No|       No|       No|         No|          No|           No|      No|      No|          No|        No| Steady|                 No|                 No|                      No|                     No|                    No|    No|        Yes|       >30|\n",
      "|      148530|   69422211|         None|     None|       No|         No|         No|            No|         No|           No|       No|     Down|         No|          No|           No|      No|      No|          No|        No| Steady|                 No|                 No|                      No|                     No|                    No|    Ch|        Yes|        NO|\n",
      "+------------+-----------+-------------+---------+---------+-----------+-----------+--------------+-----------+-------------+---------+---------+-----------+------------+-------------+--------+--------+------------+----------+-------+-------------------+-------------------+------------------------+-----------------------+----------------------+------+-----------+----------+\n",
      "only showing top 20 rows\n",
      "\n"
     ]
    }
   ],
   "source": [
    "medications_data.show()"
   ]
  },
  {
   "cell_type": "code",
   "execution_count": 34,
   "metadata": {},
   "outputs": [
    {
     "data": {
      "text/plain": [
       "[('encounter_id', 'int'),\n",
       " ('patient_nbr', 'int'),\n",
       " ('race', 'string'),\n",
       " ('gender', 'string'),\n",
       " ('age', 'string'),\n",
       " ('admission_type_id', 'int'),\n",
       " ('discharge_disposition_id', 'int'),\n",
       " ('admission_source_id', 'int'),\n",
       " ('time_in_hospital', 'int'),\n",
       " ('num_lab_procedures', 'int'),\n",
       " ('num_procedures', 'int'),\n",
       " ('num_medications', 'int'),\n",
       " ('number_outpatient', 'int'),\n",
       " ('number_emergency', 'int'),\n",
       " ('number_inpatient', 'int'),\n",
       " ('diag_1', 'string'),\n",
       " ('diag_2', 'string'),\n",
       " ('diag_3', 'string'),\n",
       " ('number_diagnoses', 'int'),\n",
       " ('change', 'string'),\n",
       " ('diabetesMed', 'string'),\n",
       " ('readmitted', 'string')]"
      ]
     },
     "execution_count": 34,
     "metadata": {},
     "output_type": "execute_result"
    }
   ],
   "source": [
    "patients_data.dtypes"
   ]
  },
  {
   "cell_type": "code",
   "execution_count": 35,
   "metadata": {
    "scrolled": true
   },
   "outputs": [
    {
     "data": {
      "text/plain": [
       "[('encounter_id', 'int'),\n",
       " ('patient_nbr', 'int'),\n",
       " ('max_glu_serum', 'string'),\n",
       " ('A1Cresult', 'string'),\n",
       " ('metformin', 'string'),\n",
       " ('repaglinide', 'string'),\n",
       " ('nateglinide', 'string'),\n",
       " ('chlorpropamide', 'string'),\n",
       " ('glimepiride', 'string'),\n",
       " ('acetohexamide', 'string'),\n",
       " ('glipizide', 'string'),\n",
       " ('glyburide', 'string'),\n",
       " ('tolbutamide', 'string'),\n",
       " ('pioglitazone', 'string'),\n",
       " ('rosiglitazone', 'string'),\n",
       " ('acarbose', 'string'),\n",
       " ('miglitol', 'string'),\n",
       " ('troglitazone', 'string'),\n",
       " ('tolazamide', 'string'),\n",
       " ('insulin', 'string'),\n",
       " ('glyburide-metformin', 'string'),\n",
       " ('glipizide-metformin', 'string'),\n",
       " ('glimepiride-pioglitazone', 'string'),\n",
       " ('metformin-rosiglitazone', 'string'),\n",
       " ('metformin-pioglitazone', 'string'),\n",
       " ('change', 'string'),\n",
       " ('diabetesMed', 'string'),\n",
       " ('readmitted', 'string')]"
      ]
     },
     "execution_count": 35,
     "metadata": {},
     "output_type": "execute_result"
    }
   ],
   "source": [
    "medications_data.dtypes"
   ]
  },
  {
   "cell_type": "code",
   "execution_count": 8,
   "metadata": {},
   "outputs": [],
   "source": [
    "diabetes_data = patients_data.join(medications_data, on = ['encounter_id','change','diabetesMed','readmitted','patient_nbr'], how = 'left')"
   ]
  },
  {
   "cell_type": "code",
   "execution_count": 23,
   "metadata": {
    "scrolled": true
   },
   "outputs": [
    {
     "name": "stdout",
     "output_type": "stream",
     "text": [
      "+------------+------+-----------+----------+-----------+---------------+------+--------+-----------------+------------------------+-------------------+----------------+------------------+--------------+---------------+-----------------+----------------+----------------+------+------+------+----------------+-------------+---------+---------+-----------+-----------+--------------+-----------+-------------+---------+---------+-----------+------------+-------------+--------+--------+------------+----------+-------+-------------------+-------------------+------------------------+-----------------------+----------------------+\n",
      "|encounter_id|change|diabetesMed|readmitted|patient_nbr|           race|gender|     age|admission_type_id|discharge_disposition_id|admission_source_id|time_in_hospital|num_lab_procedures|num_procedures|num_medications|number_outpatient|number_emergency|number_inpatient|diag_1|diag_2|diag_3|number_diagnoses|max_glu_serum|A1Cresult|metformin|repaglinide|nateglinide|chlorpropamide|glimepiride|acetohexamide|glipizide|glyburide|tolbutamide|pioglitazone|rosiglitazone|acarbose|miglitol|troglitazone|tolazamide|insulin|glyburide-metformin|glipizide-metformin|glimepiride-pioglitazone|metformin-rosiglitazone|metformin-pioglitazone|\n",
      "+------------+------+-----------+----------+-----------+---------------+------+--------+-----------------+------------------------+-------------------+----------------+------------------+--------------+---------------+-----------------+----------------+----------------+------+------+------+----------------+-------------+---------+---------+-----------+-----------+--------------+-----------+-------------+---------+---------+-----------+------------+-------------+--------+--------+------------+----------+-------+-------------------+-------------------+------------------------+-----------------------+----------------------+\n",
      "|     3625566|    No|        Yes|        NO|    7906419|      Caucasian|  Male| [60-70)|                6|                      25|                  1|               1|                47|             1|             13|                0|               0|               0|   722|250.01|   201|               3|         None|     None|       No|         No|         No|            No|         No|           No|       No|       No|         No|          No|           No|      No|      No|          No|        No| Steady|                 No|                 No|                      No|                     No|                    No|\n",
      "|     4865082|    No|         No|       >30|    5498046|      Caucasian|Female| [60-70)|                6|                      25|                  1|               4|                43|             5|             10|                0|               0|               0|   996|   403|   276|               5|         None|     None|       No|         No|         No|            No|         No|           No|       No|       No|         No|          No|           No|      No|      No|          No|        No|     No|                 No|                 No|                      No|                     No|                    No|\n",
      "|     5283786|    No|        Yes|       <30|    5287950|      Caucasian|Female| [50-60)|                6|                      25|                  7|               2|                36|             0|             12|                0|               0|               1|   786|   996|   682|               6|         None|     None|       No|         No|         No|            No|         No|           No|   Steady|       No|         No|          No|           No|      No|      No|          No|        No|     No|                 No|                 No|                      No|                     No|                    No|\n",
      "|     6988968|    Ch|        Yes|        NO|   85853835|      Caucasian|  Male| [60-70)|                2|                       1|                  2|               6|                26|             2|             10|                0|               0|               0|   440|   V42|   250|               6|         None|     None|       No|         No|         No|            No|         No|           No|   Steady|       No|         No|          No|           No|      No|      No|          No|        No| Steady|                 No|                 No|                      No|                     No|                    No|\n",
      "|     9826398|    No|        Yes|        NO|   89149185|      Caucasian|Female| [80-90)|                6|                       1|                  7|               4|                61|             0|              9|                0|               0|               0|    38|   599|   401|               5|         >200|     None|       No|         No|         No|            No|         No|           No|   Steady|       No|         No|          No|           No|      No|      No|          No|        No|     No|                 No|                 No|                      No|                     No|                    No|\n",
      "|    10042614|    No|        Yes|        NO|    4279302|AfricanAmerican|Female| [40-50)|                1|                       1|                  7|               1|                68|             0|              8|                0|               0|               0|250.13|   590|   300|               3|         None|       >8|       No|         No|         No|            No|         No|           No|   Steady|       No|         No|          No|           No|      No|      No|          No|        No|     No|                 No|                 No|                      No|                     No|                    No|\n",
      "|    11191290|    No|        Yes|        NO|   85531950|      Caucasian|Female| [70-80)|                6|                       1|                 17|               6|                41|             2|             16|                0|               0|               0|   444|   401|   250|               3|         None|     None|       No|         No|         No|            No|         No|           No|   Steady|       No|         No|          No|           No|      No|      No|          No|        No|     No|                 No|                 No|                      No|                     No|                    No|\n",
      "|    11988438|    No|         No|        NO|    1800369|AfricanAmerican|Female| [40-50)|                1|                       1|                  7|               4|                42|             0|              3|                0|               0|               0|   295|   135|   787|               9|         None|     None|       No|         No|         No|            No|         No|           No|       No|       No|         No|          No|           No|      No|      No|          No|        No|     No|                 No|                 No|                      No|                     No|                    No|\n",
      "|    13381938|    Ch|        Yes|       >30|     748881|      Caucasian|Female| [40-50)|                3|                       1|                  1|               1|                46|             5|             12|                0|               0|               0|   414|   424|   278|               6|         None|     None|       No|         No|         No|            No|         No|           No|   Steady|       No|         No|          No|       Steady|      No|      No|          No|        No|     No|                 No|                 No|                      No|                     No|                    No|\n",
      "|    14053824|    No|        Yes|       >30|     837414|AfricanAmerican|  Male| [70-80)|                1|                       6|                  7|               5|                37|             0|              9|                0|               0|               2|   404|   581|   424|               7|         None|     None|       No|         No|         No|            No|         No|           No|       No|   Steady|         No|          No|           No|      No|      No|          No|        No|     No|                 No|                 No|                      No|                     No|                    No|\n",
      "|    14574462|    Ch|        Yes|        NO|    7758045|          Other|Female| [50-60)|                2|                       1|                  4|               7|                71|             2|             22|                0|               0|               0|   320|   496|   305|               5|         None|     None|       No|         No|         No|            No|         No|           No|       Up|   Steady|         No|          No|           No|      No|      No|          No|        No|     Up|                 No|                 No|                      No|                     No|                    No|\n",
      "|    15795666|    No|         No|        NO|   57058956|      Caucasian|Female|[90-100)|                6|                      11|                  7|               2|                58|             0|              5|                0|               0|               0|   486|   599|   276|               6|         None|     None|       No|         No|         No|            No|         No|           No|       No|       No|         No|          No|           No|      No|      No|          No|        No|     No|                 No|                 No|                      No|                     No|                    No|\n",
      "|    15996702|    Ch|        Yes|        NO|    1133793|      Caucasian|  Male| [80-90)|                1|                       3|                  7|               5|                46|             0|             16|                0|               0|               1|   493|250.02|   401|               9|         None|     None|   Steady|         No|         No|            No|         No|           No|       No|   Steady|         No|      Steady|           No|      No|      No|          No|        No| Steady|                 No|                 No|                      No|                     No|                    No|\n",
      "|    16856106|    No|        Yes|        NO|     656361|AfricanAmerican|  Male| [60-70)|                1|                       1|                  7|               2|                52|             2|              8|                0|               0|               0|   578|250.02|   427|               9|         None|       >8|       No|         No|         No|            No|         No|           No|       No|       No|         No|          No|           No|      No|      No|          No|        No| Steady|                 No|                 No|                      No|                     No|                    No|\n",
      "|    18873840|    No|         No|       >30|    1119600|AfricanAmerican|  Male| [50-60)|                1|                       1|                  7|               4|                43|             2|             15|                0|               0|               0|   575|   250|   401|               4|         None|     None|       No|         No|         No|            No|         No|           No|       No|       No|         No|          No|           No|      No|      No|          No|        No|     No|                 No|                 No|                      No|                     No|                    No|\n",
      "|    19992264|    No|         No|       >30|    3352653|      Caucasian|Female| [80-90)|                3|                       3|                  1|               3|                53|             2|             19|                0|               0|               0|   715|   285|   427|               7|         None|     None|       No|         No|         No|            No|         No|           No|       No|       No|         No|          No|           No|      No|      No|          No|        No|     No|                 No|                 No|                      No|                     No|                    No|\n",
      "|    20171934|    No|        Yes|       <30|    2156832|      Caucasian|Female| [50-60)|                2|                       1|                 20|               6|                30|             1|             15|                0|               0|               0|   359|   585|  E947|               9|         None|     None|       No|         No|         No|            No|         No|           No|       No|       No|         No|          No|           No|      No|      No|          No|        No| Steady|                 No|                 No|                      No|                     No|                    No|\n",
      "|    20324670|    No|        Yes|       >30|   58507137|      Caucasian|Female| [60-70)|                1|                       1|                  7|               4|                71|             1|             15|                0|               0|               2|   560|   599|    41|               7|         None|     None|       No|         No|         No|            No|         No|           No|       No|       No|         No|          No|           No|      No|      No|          No|        No| Steady|                 No|                 No|                      No|                     No|                    No|\n",
      "|    20969760|    Ch|        Yes|       >30|    1540800|      Caucasian|  Male| [60-70)|                3|                       1|                  1|               2|                34|             3|             19|                0|               0|               0|   414|   411|   401|               6|         None|     None|       No|         No|         No|            No|         No|           No|       No|       No|         No|      Steady|           No|      No|      No|          No|        No| Steady|                 No|                 No|                      No|                     No|                    No|\n",
      "|    21586686|    No|         No|        NO|   25616655|      Caucasian|  Male| [50-60)|                5|                       1|                 17|               1|                24|             1|             11|                0|               0|               0|   575|   401|   250|               3|         >200|     None|       No|         No|         No|            No|         No|           No|       No|       No|         No|          No|           No|      No|      No|          No|        No|     No|                 No|                 No|                      No|                     No|                    No|\n",
      "+------------+------+-----------+----------+-----------+---------------+------+--------+-----------------+------------------------+-------------------+----------------+------------------+--------------+---------------+-----------------+----------------+----------------+------+------+------+----------------+-------------+---------+---------+-----------+-----------+--------------+-----------+-------------+---------+---------+-----------+------------+-------------+--------+--------+------------+----------+-------+-------------------+-------------------+------------------------+-----------------------+----------------------+\n",
      "only showing top 20 rows\n",
      "\n"
     ]
    }
   ],
   "source": [
    "diabetes_data.show()"
   ]
  },
  {
   "cell_type": "code",
   "execution_count": 38,
   "metadata": {
    "scrolled": false
   },
   "outputs": [
    {
     "name": "stdout",
     "output_type": "stream",
     "text": [
      "(98053, 45)\n"
     ]
    }
   ],
   "source": [
    "print((diabetes_data.count(), len(diabetes_data.columns)))"
   ]
  },
  {
   "cell_type": "code",
   "execution_count": 9,
   "metadata": {
    "scrolled": false
   },
   "outputs": [],
   "source": [
    "diabetes_data = diabetes_data.sort('encounter_ID','admission_type_id','discharge_disposition_id','admission_source_id')"
   ]
  },
  {
   "cell_type": "code",
   "execution_count": 40,
   "metadata": {
    "scrolled": true
   },
   "outputs": [
    {
     "name": "stdout",
     "output_type": "stream",
     "text": [
      "+------------+------+-----------+----------+-----------+---------------+------+--------+-----------------+------------------------+-------------------+----------------+------------------+--------------+---------------+-----------------+----------------+----------------+------+------+------+----------------+-------------+---------+---------+-----------+-----------+--------------+-----------+-------------+---------+---------+-----------+------------+-------------+--------+--------+------------+----------+-------+-------------------+-------------------+------------------------+-----------------------+----------------------+\n",
      "|encounter_id|change|diabetesMed|readmitted|patient_nbr|           race|gender|     age|admission_type_id|discharge_disposition_id|admission_source_id|time_in_hospital|num_lab_procedures|num_procedures|num_medications|number_outpatient|number_emergency|number_inpatient|diag_1|diag_2|diag_3|number_diagnoses|max_glu_serum|A1Cresult|metformin|repaglinide|nateglinide|chlorpropamide|glimepiride|acetohexamide|glipizide|glyburide|tolbutamide|pioglitazone|rosiglitazone|acarbose|miglitol|troglitazone|tolazamide|insulin|glyburide-metformin|glipizide-metformin|glimepiride-pioglitazone|metformin-rosiglitazone|metformin-pioglitazone|\n",
      "+------------+------+-----------+----------+-----------+---------------+------+--------+-----------------+------------------------+-------------------+----------------+------------------+--------------+---------------+-----------------+----------------+----------------+------+------+------+----------------+-------------+---------+---------+-----------+-----------+--------------+-----------+-------------+---------+---------+-----------+------------+-------------+--------+--------+------------+----------+-------+-------------------+-------------------+------------------------+-----------------------+----------------------+\n",
      "|       12522|    Ch|        Yes|        NO|   48330783|      Caucasian|Female| [80-90)|                2|                       1|                  4|              13|                68|             2|             28|                0|               0|               0|   398|   427|    38|               8|         None|     None|       No|         No|         No|            No|         No|           No|   Steady|       No|         No|          No|           No|      No|      No|          No|        No| Steady|                 No|                 No|                      No|                     No|                    No|\n",
      "|       15738|    Ch|        Yes|        NO|   63555939|      Caucasian|Female|[90-100)|                3|                       3|                  4|              12|                33|             3|             18|                0|               0|               0|   434|   198|   486|               8|         None|     None|       No|         No|         No|            No|         No|           No|       No|       No|         No|          No|       Steady|      No|      No|          No|        No| Steady|                 No|                 No|                      No|                     No|                    No|\n",
      "|       16680|    Ch|        Yes|        NO|   42519267|      Caucasian|  Male| [40-50)|                1|                       1|                  7|               1|                51|             0|              8|                0|               0|               0|   197|   157|   250|               5|         None|     None|       No|         No|         No|            No|         No|           No|   Steady|       No|         No|          No|           No|      No|      No|          No|        No| Steady|                 No|                 No|                      No|                     No|                    No|\n",
      "|       28236|    No|        Yes|       >30|   89869032|AfricanAmerican|Female| [40-50)|                1|                       1|                  7|               9|                47|             2|             17|                0|               0|               0| 250.7|   403|   996|               9|         None|     None|       No|         No|         No|            No|         No|           No|       No|       No|         No|          No|           No|      No|      No|          No|        No| Steady|                 No|                 No|                      No|                     No|                    No|\n",
      "|       35754|    No|        Yes|       >30|   82637451|      Caucasian|  Male| [50-60)|                2|                       1|                  2|               3|                31|             6|             16|                0|               0|               0|   414|   411|   250|               9|         None|     None|       No|         No|         No|            No|         No|           No|       No|       No|         No|          No|           No|      No|      No|          No|        No| Steady|                 No|                 No|                      No|                     No|                    No|\n",
      "|       36900|    Ch|        Yes|       <30|   77391171|AfricanAmerican|  Male| [60-70)|                2|                       1|                  4|               7|                62|             0|             11|                0|               0|               0|   157|   288|   197|               7|         None|     None|       No|         No|         No|            No|         No|           No|       No|       Up|         No|          No|           No|      No|      No|          No|        No| Steady|                 No|                 No|                      No|                     No|                    No|\n",
      "|       40926|    Ch|        Yes|       <30|   85504905|      Caucasian|Female| [40-50)|                1|                       3|                  7|               7|                60|             0|             15|                0|               1|               0|   428|250.43| 250.6|               8|         None|     None|   Steady|         Up|         No|            No|         No|           No|       No|       No|         No|          No|           No|      No|      No|          No|        No|   Down|                 No|                 No|                      No|                     No|                    No|\n",
      "|       42570|    No|        Yes|        NO|   77586282|      Caucasian|  Male| [80-90)|                1|                       6|                  7|              10|                55|             1|             31|                0|               0|               0|   428|   411|   427|               8|         None|     None|       No|         No|         No|            No|         No|           No|       No|       No|         No|          No|           No|      No|      No|          No|        No| Steady|                 No|                 No|                      No|                     No|                    No|\n",
      "|       55842|    Ch|        Yes|        NO|   84259809|      Caucasian|  Male| [60-70)|                3|                       1|                  2|               4|                70|             1|             21|                0|               0|               0|   414|   411|   V45|               7|         None|     None|   Steady|         No|         No|            No|     Steady|           No|       No|       No|         No|          No|           No|      No|      No|          No|        No| Steady|                 No|                 No|                      No|                     No|                    No|\n",
      "|       62256|    No|        Yes|       >30|   49726791|AfricanAmerican|Female| [60-70)|                3|                       1|                  2|               1|                49|             5|              2|                0|               0|               0|   518|   998|   627|               8|         None|     None|       No|         No|         No|            No|         No|           No|       No|       No|         No|          No|           No|      No|      No|          No|        No| Steady|                 No|                 No|                      No|                     No|                    No|\n",
      "|       63768|    No|        Yes|       >30|  114882984|      Caucasian|  Male| [70-80)|                1|                       1|                  7|               5|                73|             0|             12|                0|               0|               0|   428|   492|   250|               8|         None|     None|       No|         No|         No|            No|         No|           No|       No|   Steady|         No|          No|           No|      No|      No|          No|        No|     No|                 No|                 No|                      No|                     No|                    No|\n",
      "|       64410|    No|        Yes|        NO|   86047875|AfricanAmerican|Female| [20-30)|                1|                       1|                  7|               2|                11|             5|             13|                2|               0|               1|   648|   250|   V27|               6|         None|     None|       No|         No|         No|            No|         No|           No|   Steady|       No|         No|          No|           No|      No|      No|          No|        No|     No|                 No|                 No|                      No|                     No|                    No|\n",
      "|       73578|    Ch|        Yes|        NO|   86328819|AfricanAmerican|  Male| [60-70)|                1|                       3|                  7|              12|                75|             5|             13|                0|               0|               0|   999|   507|   996|               9|         None|     None|       No|         No|         No|            No|         No|           No|       No|       No|         No|          No|           No|      No|      No|          No|        No|     Up|                 No|                 No|                      No|                     No|                    No|\n",
      "|       77076|    Ch|        Yes|       <30|   92519352|AfricanAmerican|  Male| [50-60)|                1|                       1|                  7|               4|                45|             4|             17|                0|               0|               0|   410|   411|   414|               8|         None|     None|       No|         No|         No|            No|         No|           No|   Steady|       No|         No|          No|           No|      No|      No|          No|        No| Steady|                 No|                 No|                      No|                     No|                    No|\n",
      "|       84222|    No|        Yes|        NO|  108662661|      Caucasian|Female| [50-60)|                1|                       1|                  7|               3|                29|             0|             11|                0|               0|               0|   682|   174|   250|               3|         None|     None|       No|         No|         No|            No|         No|           No|       No|   Steady|         No|          No|           No|      No|      No|          No|        No|     No|                 No|                 No|                      No|                     No|                    No|\n",
      "|       89682|    No|        Yes|       >30|  107389323|AfricanAmerican|  Male| [70-80)|                1|                       1|                  7|               5|                35|             5|             23|                0|               0|               0|   402|   425|   416|               9|         None|     None|       No|         No|         No|            No|         No|           No|       No|       No|         No|          No|           No|      No|      No|          No|        No| Steady|                 No|                 No|                      No|                     No|                    No|\n",
      "|      149190|    Ch|        Yes|       >30|   55629189|      Caucasian|Female| [10-20)|                1|                       1|                  7|               3|                59|             0|             18|                0|               0|               0|   276|250.01|   255|               9|         None|     None|       No|         No|         No|            No|         No|           No|       No|       No|         No|          No|           No|      No|      No|          No|        No|     Up|                 No|                 No|                      No|                     No|                    No|\n",
      "|      182796|    No|         No|        NO|   63000108|AfricanAmerican|Female| [70-80)|                2|                       1|                  4|               2|                47|             0|             12|                0|               0|               0|   410|   401|   582|               8|         None|     None|       No|         No|         No|            No|         No|           No|       No|       No|         No|          No|           No|      No|      No|          No|        No|     No|                 No|                 No|                      No|                     No|                    No|\n",
      "|      183930|    No|         No|       >30|  107400762|      Caucasian|Female| [80-90)|                2|                       6|                  1|              11|                42|             2|             19|                0|               0|               0|   V57|   715|   V43|               8|         None|     None|       No|         No|         No|            No|         No|           No|       No|       No|         No|          No|           No|      No|      No|          No|        No|     No|                 No|                 No|                      No|                     No|                    No|\n",
      "|      216156|    Ch|        Yes|        NO|   62718876|AfricanAmerican|Female| [70-80)|                3|                       1|                  2|               3|                19|             4|             18|                0|               0|               0|   189|   496|   427|               6|         None|     None|       No|         No|         No|            No|         No|           No|   Steady|       No|         No|          No|           No|      No|      No|          No|        No| Steady|                 No|                 No|                      No|                     No|                    No|\n",
      "+------------+------+-----------+----------+-----------+---------------+------+--------+-----------------+------------------------+-------------------+----------------+------------------+--------------+---------------+-----------------+----------------+----------------+------+------+------+----------------+-------------+---------+---------+-----------+-----------+--------------+-----------+-------------+---------+---------+-----------+------------+-------------+--------+--------+------------+----------+-------+-------------------+-------------------+------------------------+-----------------------+----------------------+\n",
      "only showing top 20 rows\n",
      "\n"
     ]
    }
   ],
   "source": [
    "diabetes_data.show()"
   ]
  },
  {
   "cell_type": "markdown",
   "metadata": {},
   "source": [
    "Step 4"
   ]
  },
  {
   "cell_type": "code",
   "execution_count": 10,
   "metadata": {},
   "outputs": [],
   "source": [
    "columns_to_drop = ['max_glu_serum',\n",
    " 'A1Cresult',\n",
    " 'metformin',\n",
    " 'repaglinide',\n",
    " 'nateglinide',\n",
    " 'chlorpropamide',\n",
    " 'glimepiride',\n",
    " 'acetohexamide',\n",
    " 'glipizide',\n",
    " 'glyburide',\n",
    " 'tolbutamide',\n",
    " 'pioglitazone',\n",
    " 'rosiglitazone',\n",
    " 'acarbose',\n",
    " 'miglitol',\n",
    " 'troglitazone',\n",
    " 'tolazamide',\n",
    " 'insulin',\n",
    " 'glyburide-metformin',\n",
    " 'glipizide-metformin',\n",
    " 'glimepiride-pioglitazone',\n",
    " 'metformin-rosiglitazone',\n",
    " 'metformin-pioglitazone']\n",
    "diabetes_data = diabetes_data.drop(*columns_to_drop)"
   ]
  },
  {
   "cell_type": "code",
   "execution_count": 11,
   "metadata": {},
   "outputs": [
    {
     "name": "stdout",
     "output_type": "stream",
     "text": [
      "+------------+------+-----------+----------+-----------+---------------+------+--------+-----------------+------------------------+-------------------+----------------+------------------+--------------+---------------+-----------------+----------------+----------------+------+------+------+----------------+\n",
      "|encounter_id|change|diabetesMed|readmitted|patient_nbr|           race|gender|     age|admission_type_id|discharge_disposition_id|admission_source_id|time_in_hospital|num_lab_procedures|num_procedures|num_medications|number_outpatient|number_emergency|number_inpatient|diag_1|diag_2|diag_3|number_diagnoses|\n",
      "+------------+------+-----------+----------+-----------+---------------+------+--------+-----------------+------------------------+-------------------+----------------+------------------+--------------+---------------+-----------------+----------------+----------------+------+------+------+----------------+\n",
      "|       12522|    Ch|        Yes|        NO|   48330783|      Caucasian|Female| [80-90)|                2|                       1|                  4|              13|                68|             2|             28|                0|               0|               0|   398|   427|    38|               8|\n",
      "|       15738|    Ch|        Yes|        NO|   63555939|      Caucasian|Female|[90-100)|                3|                       3|                  4|              12|                33|             3|             18|                0|               0|               0|   434|   198|   486|               8|\n",
      "|       16680|    Ch|        Yes|        NO|   42519267|      Caucasian|  Male| [40-50)|                1|                       1|                  7|               1|                51|             0|              8|                0|               0|               0|   197|   157|   250|               5|\n",
      "|       28236|    No|        Yes|       >30|   89869032|AfricanAmerican|Female| [40-50)|                1|                       1|                  7|               9|                47|             2|             17|                0|               0|               0| 250.7|   403|   996|               9|\n",
      "|       35754|    No|        Yes|       >30|   82637451|      Caucasian|  Male| [50-60)|                2|                       1|                  2|               3|                31|             6|             16|                0|               0|               0|   414|   411|   250|               9|\n",
      "|       36900|    Ch|        Yes|       <30|   77391171|AfricanAmerican|  Male| [60-70)|                2|                       1|                  4|               7|                62|             0|             11|                0|               0|               0|   157|   288|   197|               7|\n",
      "|       40926|    Ch|        Yes|       <30|   85504905|      Caucasian|Female| [40-50)|                1|                       3|                  7|               7|                60|             0|             15|                0|               1|               0|   428|250.43| 250.6|               8|\n",
      "|       42570|    No|        Yes|        NO|   77586282|      Caucasian|  Male| [80-90)|                1|                       6|                  7|              10|                55|             1|             31|                0|               0|               0|   428|   411|   427|               8|\n",
      "|       55842|    Ch|        Yes|        NO|   84259809|      Caucasian|  Male| [60-70)|                3|                       1|                  2|               4|                70|             1|             21|                0|               0|               0|   414|   411|   V45|               7|\n",
      "|       62256|    No|        Yes|       >30|   49726791|AfricanAmerican|Female| [60-70)|                3|                       1|                  2|               1|                49|             5|              2|                0|               0|               0|   518|   998|   627|               8|\n",
      "|       63768|    No|        Yes|       >30|  114882984|      Caucasian|  Male| [70-80)|                1|                       1|                  7|               5|                73|             0|             12|                0|               0|               0|   428|   492|   250|               8|\n",
      "|       64410|    No|        Yes|        NO|   86047875|AfricanAmerican|Female| [20-30)|                1|                       1|                  7|               2|                11|             5|             13|                2|               0|               1|   648|   250|   V27|               6|\n",
      "|       73578|    Ch|        Yes|        NO|   86328819|AfricanAmerican|  Male| [60-70)|                1|                       3|                  7|              12|                75|             5|             13|                0|               0|               0|   999|   507|   996|               9|\n",
      "|       77076|    Ch|        Yes|       <30|   92519352|AfricanAmerican|  Male| [50-60)|                1|                       1|                  7|               4|                45|             4|             17|                0|               0|               0|   410|   411|   414|               8|\n",
      "|       84222|    No|        Yes|        NO|  108662661|      Caucasian|Female| [50-60)|                1|                       1|                  7|               3|                29|             0|             11|                0|               0|               0|   682|   174|   250|               3|\n",
      "|       89682|    No|        Yes|       >30|  107389323|AfricanAmerican|  Male| [70-80)|                1|                       1|                  7|               5|                35|             5|             23|                0|               0|               0|   402|   425|   416|               9|\n",
      "|      149190|    Ch|        Yes|       >30|   55629189|      Caucasian|Female| [10-20)|                1|                       1|                  7|               3|                59|             0|             18|                0|               0|               0|   276|250.01|   255|               9|\n",
      "|      182796|    No|         No|        NO|   63000108|AfricanAmerican|Female| [70-80)|                2|                       1|                  4|               2|                47|             0|             12|                0|               0|               0|   410|   401|   582|               8|\n",
      "|      183930|    No|         No|       >30|  107400762|      Caucasian|Female| [80-90)|                2|                       6|                  1|              11|                42|             2|             19|                0|               0|               0|   V57|   715|   V43|               8|\n",
      "|      216156|    Ch|        Yes|        NO|   62718876|AfricanAmerican|Female| [70-80)|                3|                       1|                  2|               3|                19|             4|             18|                0|               0|               0|   189|   496|   427|               6|\n",
      "+------------+------+-----------+----------+-----------+---------------+------+--------+-----------------+------------------------+-------------------+----------------+------------------+--------------+---------------+-----------------+----------------+----------------+------+------+------+----------------+\n",
      "only showing top 20 rows\n",
      "\n"
     ]
    }
   ],
   "source": [
    "diabetes_data.show()"
   ]
  },
  {
   "cell_type": "code",
   "execution_count": 11,
   "metadata": {},
   "outputs": [
    {
     "data": {
      "text/plain": [
       "[('encounter_id', 'int'),\n",
       " ('change', 'string'),\n",
       " ('diabetesMed', 'string'),\n",
       " ('readmitted', 'string'),\n",
       " ('patient_nbr', 'int'),\n",
       " ('race', 'string'),\n",
       " ('gender', 'string'),\n",
       " ('age', 'string'),\n",
       " ('admission_type_id', 'int'),\n",
       " ('discharge_disposition_id', 'int'),\n",
       " ('admission_source_id', 'int'),\n",
       " ('time_in_hospital', 'int'),\n",
       " ('num_lab_procedures', 'int'),\n",
       " ('num_procedures', 'int'),\n",
       " ('num_medications', 'int'),\n",
       " ('number_outpatient', 'int'),\n",
       " ('number_emergency', 'int'),\n",
       " ('number_inpatient', 'int'),\n",
       " ('diag_1', 'string'),\n",
       " ('diag_2', 'string'),\n",
       " ('diag_3', 'string'),\n",
       " ('number_diagnoses', 'int')]"
      ]
     },
     "execution_count": 11,
     "metadata": {},
     "output_type": "execute_result"
    }
   ],
   "source": [
    "diabetes_data.dtypes"
   ]
  },
  {
   "cell_type": "code",
   "execution_count": 12,
   "metadata": {},
   "outputs": [],
   "source": [
    "from pyspark.sql.types import DoubleType\n",
    "\n",
    "diabetes_data = diabetes_data.withColumn(\"time_in_hospital\", diabetes_data[\"time_in_hospital\"].cast(DoubleType()))\n",
    "diabetes_data = diabetes_data.withColumn(\"num_lab_procedures\", diabetes_data[\"num_lab_procedures\"].cast(DoubleType()))\n",
    "diabetes_data = diabetes_data.withColumn(\"num_procedures\", diabetes_data[\"num_procedures\"].cast(DoubleType()))\n",
    "diabetes_data = diabetes_data.withColumn(\"num_medications\", diabetes_data[\"num_medications\"].cast(DoubleType()))\n",
    "diabetes_data = diabetes_data.withColumn(\"number_diagnoses\", diabetes_data[\"number_diagnoses\"].cast(DoubleType()))"
   ]
  },
  {
   "cell_type": "code",
   "execution_count": 13,
   "metadata": {
    "scrolled": true
   },
   "outputs": [
    {
     "name": "stdout",
     "output_type": "stream",
     "text": [
      "+------------+------+-----------+----------+-----------+---------------+------+--------+-----------------+------------------------+-------------------+----------------+------------------+--------------+---------------+-----------------+----------------+----------------+------+------+------+----------------+-----------------------+-------------------------+---------------------+----------------------+-----------------------+\n",
      "|encounter_id|change|diabetesMed|readmitted|patient_nbr|           race|gender|     age|admission_type_id|discharge_disposition_id|admission_source_id|time_in_hospital|num_lab_procedures|num_procedures|num_medications|number_outpatient|number_emergency|number_inpatient|diag_1|diag_2|diag_3|number_diagnoses|time_in_hospital_bucket|num_lab_procedures_bucket|num_procedures_bucket|num_medications_bucket|number_diagnoses_bucket|\n",
      "+------------+------+-----------+----------+-----------+---------------+------+--------+-----------------+------------------------+-------------------+----------------+------------------+--------------+---------------+-----------------+----------------+----------------+------+------+------+----------------+-----------------------+-------------------------+---------------------+----------------------+-----------------------+\n",
      "|       12522|    Ch|        Yes|        NO|   48330783|      Caucasian|Female| [80-90)|                2|                       1|                  4|            13.0|              68.0|           2.0|           28.0|                0|               0|               0|   398|   427|    38|             8.0|                    3.0|                      5.0|                  1.0|                   4.0|                    2.0|\n",
      "|       15738|    Ch|        Yes|        NO|   63555939|      Caucasian|Female|[90-100)|                3|                       3|                  4|            12.0|              33.0|           3.0|           18.0|                0|               0|               0|   434|   198|   486|             8.0|                    3.0|                      4.0|                  1.0|                   3.0|                    2.0|\n",
      "|       16680|    Ch|        Yes|        NO|   42519267|      Caucasian|  Male| [40-50)|                1|                       1|                  7|             1.0|              51.0|           0.0|            8.0|                0|               0|               0|   197|   157|   250|             5.0|                    1.0|                      5.0|                  0.0|                   2.0|                    2.0|\n",
      "|       28236|    No|        Yes|       >30|   89869032|AfricanAmerican|Female| [40-50)|                1|                       1|                  7|             9.0|              47.0|           2.0|           17.0|                0|               0|               0| 250.7|   403|   996|             9.0|                    2.0|                      4.0|                  1.0|                   3.0|                    2.0|\n",
      "|       35754|    No|        Yes|       >30|   82637451|      Caucasian|  Male| [50-60)|                2|                       1|                  2|             3.0|              31.0|           6.0|           16.0|                0|               0|               0|   414|   411|   250|             9.0|                    1.0|                      4.0|                  2.0|                   3.0|                    2.0|\n",
      "|       36900|    Ch|        Yes|       <30|   77391171|AfricanAmerican|  Male| [60-70)|                2|                       1|                  4|             7.0|              62.0|           0.0|           11.0|                0|               0|               0|   157|   288|   197|             7.0|                    2.0|                      5.0|                  0.0|                   3.0|                    2.0|\n",
      "|       40926|    Ch|        Yes|       <30|   85504905|      Caucasian|Female| [40-50)|                1|                       3|                  7|             7.0|              60.0|           0.0|           15.0|                0|               1|               0|   428|250.43| 250.6|             8.0|                    2.0|                      5.0|                  0.0|                   3.0|                    2.0|\n",
      "|       42570|    No|        Yes|        NO|   77586282|      Caucasian|  Male| [80-90)|                1|                       6|                  7|            10.0|              55.0|           1.0|           31.0|                0|               0|               0|   428|   411|   427|             8.0|                    3.0|                      5.0|                  1.0|                   4.0|                    2.0|\n",
      "|       55842|    Ch|        Yes|        NO|   84259809|      Caucasian|  Male| [60-70)|                3|                       1|                  2|             4.0|              70.0|           1.0|           21.0|                0|               0|               0|   414|   411|   V45|             7.0|                    1.0|                      5.0|                  1.0|                   3.0|                    2.0|\n",
      "|       62256|    No|        Yes|       >30|   49726791|AfricanAmerican|Female| [60-70)|                3|                       1|                  2|             1.0|              49.0|           5.0|            2.0|                0|               0|               0|   518|   998|   627|             8.0|                    1.0|                      4.0|                  2.0|                   1.0|                    2.0|\n",
      "|       63768|    No|        Yes|       >30|  114882984|      Caucasian|  Male| [70-80)|                1|                       1|                  7|             5.0|              73.0|           0.0|           12.0|                0|               0|               0|   428|   492|   250|             8.0|                    2.0|                      5.0|                  0.0|                   3.0|                    2.0|\n",
      "|       64410|    No|        Yes|        NO|   86047875|AfricanAmerican|Female| [20-30)|                1|                       1|                  7|             2.0|              11.0|           5.0|           13.0|                2|               0|               1|   648|   250|   V27|             6.0|                    1.0|                      3.0|                  2.0|                   3.0|                    2.0|\n",
      "|       73578|    Ch|        Yes|        NO|   86328819|AfricanAmerican|  Male| [60-70)|                1|                       3|                  7|            12.0|              75.0|           5.0|           13.0|                0|               0|               0|   999|   507|   996|             9.0|                    3.0|                      5.0|                  2.0|                   3.0|                    2.0|\n",
      "|       77076|    Ch|        Yes|       <30|   92519352|AfricanAmerican|  Male| [50-60)|                1|                       1|                  7|             4.0|              45.0|           4.0|           17.0|                0|               0|               0|   410|   411|   414|             8.0|                    1.0|                      4.0|                  1.0|                   3.0|                    2.0|\n",
      "|       84222|    No|        Yes|        NO|  108662661|      Caucasian|Female| [50-60)|                1|                       1|                  7|             3.0|              29.0|           0.0|           11.0|                0|               0|               0|   682|   174|   250|             3.0|                    1.0|                      4.0|                  0.0|                   3.0|                    1.0|\n",
      "|       89682|    No|        Yes|       >30|  107389323|AfricanAmerican|  Male| [70-80)|                1|                       1|                  7|             5.0|              35.0|           5.0|           23.0|                0|               0|               0|   402|   425|   416|             9.0|                    2.0|                      4.0|                  2.0|                   3.0|                    2.0|\n",
      "|      149190|    Ch|        Yes|       >30|   55629189|      Caucasian|Female| [10-20)|                1|                       1|                  7|             3.0|              59.0|           0.0|           18.0|                0|               0|               0|   276|250.01|   255|             9.0|                    1.0|                      5.0|                  0.0|                   3.0|                    2.0|\n",
      "|      182796|    No|         No|        NO|   63000108|AfricanAmerican|Female| [70-80)|                2|                       1|                  4|             2.0|              47.0|           0.0|           12.0|                0|               0|               0|   410|   401|   582|             8.0|                    1.0|                      4.0|                  0.0|                   3.0|                    2.0|\n",
      "|      183930|    No|         No|       >30|  107400762|      Caucasian|Female| [80-90)|                2|                       6|                  1|            11.0|              42.0|           2.0|           19.0|                0|               0|               0|   V57|   715|   V43|             8.0|                    3.0|                      4.0|                  1.0|                   3.0|                    2.0|\n",
      "|      216156|    Ch|        Yes|        NO|   62718876|AfricanAmerican|Female| [70-80)|                3|                       1|                  2|             3.0|              19.0|           4.0|           18.0|                0|               0|               0|   189|   496|   427|             6.0|                    1.0|                      3.0|                  1.0|                   3.0|                    2.0|\n",
      "+------------+------+-----------+----------+-----------+---------------+------+--------+-----------------+------------------------+-------------------+----------------+------------------+--------------+---------------+-----------------+----------------+----------------+------+------+------+----------------+-----------------------+-------------------------+---------------------+----------------------+-----------------------+\n",
      "only showing top 20 rows\n",
      "\n"
     ]
    }
   ],
   "source": [
    "from pyspark.ml.feature import Bucketizer\n",
    "bucketizer = Bucketizer(splits=[ 0, 1, 5, 10, 25, 50, 100, 200, 500, 1000, float('Inf') ],inputCol=\"time_in_hospital\", outputCol=\"time_in_hospital_bucket\")\n",
    "df_buck = bucketizer.setHandleInvalid(\"keep\").transform(diabetes_data)\n",
    "bucketizer = Bucketizer(splits=[ 0, 1, 5, 10, 25, 50, 100, 200, 500, 1000, float('Inf') ],inputCol=\"num_lab_procedures\", outputCol=\"num_lab_procedures_bucket\")\n",
    "df_buck1 = bucketizer.setHandleInvalid(\"keep\").transform(df_buck)\n",
    "bucketizer = Bucketizer(splits=[ 0, 1, 5, 10, 25, 50, 100, 200, 500, 1000, float('Inf') ],inputCol=\"num_procedures\", outputCol=\"num_procedures_bucket\")\n",
    "df_buck2 = bucketizer.setHandleInvalid(\"keep\").transform(df_buck1)\n",
    "bucketizer = Bucketizer(splits=[ 0, 1, 5, 10, 25, 50, 100, 200, 500, 1000, float('Inf') ],inputCol=\"num_medications\", outputCol=\"num_medications_bucket\")\n",
    "df_buck3 = bucketizer.setHandleInvalid(\"keep\").transform(df_buck2)\n",
    "bucketizer = Bucketizer(splits=[ 0, 1, 5, 10, 25, 50, 100, 200, 500, 1000, float('Inf') ],inputCol=\"number_diagnoses\", outputCol=\"number_diagnoses_bucket\")\n",
    "df_buck4 = bucketizer.setHandleInvalid(\"keep\").transform(df_buck3)\n",
    "\n",
    "df_buck4.show()"
   ]
  },
  {
   "cell_type": "code",
   "execution_count": 14,
   "metadata": {},
   "outputs": [],
   "source": [
    "from pyspark.mllib.util import MLUtils\n",
    "from pyspark.ml.feature import Normalizer"
   ]
  },
  {
   "cell_type": "code",
   "execution_count": 15,
   "metadata": {},
   "outputs": [],
   "source": [
    "from pyspark.ml.feature import StringIndexer\n",
    "raceIndexer = StringIndexer().setInputCol('race').setOutputCol('raceIndexer')\n",
    "genderIndexer = StringIndexer().setInputCol('gender').setOutputCol('genderIndexer')\n",
    "ageIndexer = StringIndexer().setInputCol('age').setOutputCol('ageIndexer')\n",
    "diag_1Indexer = StringIndexer().setInputCol('diag_1').setOutputCol('diag_1Indexer')\n",
    "diag_2Indexer = StringIndexer().setInputCol('diag_2').setOutputCol('diag_2Indexer')\n",
    "diag_3Indexer = StringIndexer().setInputCol('diag_3').setOutputCol('diag_3Indexer')\n",
    "changeIndexer = StringIndexer().setInputCol('change').setOutputCol('changeIndexer')\n",
    "diabetesMedIndexer = StringIndexer().setInputCol('diabetesMed').setOutputCol('diabetesMedIndexer')\n",
    "readmittedIndexer = StringIndexer().setInputCol('readmitted').setOutputCol('readmittedIndexer')"
   ]
  },
  {
   "cell_type": "code",
   "execution_count": 16,
   "metadata": {},
   "outputs": [],
   "source": [
    "from pyspark.ml.feature import OneHotEncoder\n",
    "raceEncoder = OneHotEncoder().setInputCol(\"raceIndexer\").setOutputCol(\"raceVec\")\n",
    "indexed = raceIndexer.fit(diabetes_data).transform(diabetes_data)\n",
    "genderEncoder = OneHotEncoder().setInputCol('genderIndexer').setOutputCol('genderVec')\n",
    "indexed1 = genderIndexer.fit(indexed).transform(indexed)\n",
    "ageEncoder = OneHotEncoder().setInputCol('ageIndexer').setOutputCol('ageVec')\n",
    "indexed2 = ageIndexer.fit(indexed1).transform(indexed1)\n",
    "diag_1Encoder = OneHotEncoder().setInputCol('diag_1Indexer').setOutputCol('diag_1Vec')\n"
   ]
  },
  {
   "cell_type": "code",
   "execution_count": 17,
   "metadata": {},
   "outputs": [],
   "source": [
    "indexed3 = diag_1Indexer.fit(indexed2).transform(indexed2)\n",
    "diag_2Encoder = OneHotEncoder().setInputCol('diag_2Indexer').setOutputCol('diag_2Vec')\n",
    "indexed4 = diag_2Indexer.fit(indexed3).transform(indexed3)\n",
    "diag_3Encoder = OneHotEncoder().setInputCol('diag_3Indexer').setOutputCol('diag_3Vec')\n",
    "indexed5 = diag_3Indexer.fit(indexed4).transform(indexed4)\n",
    "changeEncoder = OneHotEncoder().setInputCol('changeIndexer').setOutputCol('changeVec')\n"
   ]
  },
  {
   "cell_type": "code",
   "execution_count": 18,
   "metadata": {},
   "outputs": [],
   "source": [
    "indexed6 = changeIndexer.fit(indexed5).transform(indexed5)\n",
    "diabetesMedEncoder = OneHotEncoder().setInputCol('diabetesMedIndexer').setOutputCol('diabetesMedVec')\n",
    "indexed7 = diabetesMedIndexer.fit(indexed6).transform(indexed6)"
   ]
  },
  {
   "cell_type": "code",
   "execution_count": 19,
   "metadata": {},
   "outputs": [],
   "source": [
    "readmittedEncoder = OneHotEncoder().setInputCol('readmittedIndexer').setOutputCol('readmittedVec')\n",
    "indexed8 = readmittedIndexer.fit(indexed7).transform(indexed7)"
   ]
  },
  {
   "cell_type": "code",
   "execution_count": 18,
   "metadata": {
    "scrolled": true
   },
   "outputs": [
    {
     "name": "stdout",
     "output_type": "stream",
     "text": [
      "+------------+------+-----------+----------+-----------+---------------+------+--------+-----------------+------------------------+-------------------+----------------+------------------+--------------+---------------+-----------------+----------------+----------------+------+------+------+----------------+-----------+-------------+----------+-------------+-------------+-------------+-------------+------------------+-----------------+\n",
      "|encounter_id|change|diabetesMed|readmitted|patient_nbr|           race|gender|     age|admission_type_id|discharge_disposition_id|admission_source_id|time_in_hospital|num_lab_procedures|num_procedures|num_medications|number_outpatient|number_emergency|number_inpatient|diag_1|diag_2|diag_3|number_diagnoses|raceIndexer|genderIndexer|ageIndexer|diag_1Indexer|diag_2Indexer|diag_3Indexer|changeIndexer|diabetesMedIndexer|readmittedIndexer|\n",
      "+------------+------+-----------+----------+-----------+---------------+------+--------+-----------------+------------------------+-------------------+----------------+------------------+--------------+---------------+-----------------+----------------+----------------+------+------+------+----------------+-----------+-------------+----------+-------------+-------------+-------------+-------------+------------------+-----------------+\n",
      "|       12522|    Ch|        Yes|        NO|   48330783|      Caucasian|Female| [80-90)|                2|                       1|                  4|            13.0|              68.0|           2.0|           28.0|                0|               0|               0|   398|   427|    38|             8.0|        0.0|          0.0|       2.0|        112.0|          3.0|         96.0|          1.0|               0.0|              0.0|\n",
      "|       15738|    Ch|        Yes|        NO|   63555939|      Caucasian|Female|[90-100)|                3|                       3|                  4|            12.0|              33.0|           3.0|           18.0|                0|               0|               0|   434|   198|   486|             8.0|        0.0|          0.0|       6.0|          8.0|         53.0|         30.0|          1.0|               0.0|              0.0|\n",
      "|       16680|    Ch|        Yes|        NO|   42519267|      Caucasian|  Male| [40-50)|                1|                       1|                  7|             1.0|              51.0|           0.0|            8.0|                0|               0|               0|   197|   157|   250|             5.0|        0.0|          1.0|       4.0|         61.0|        144.0|          0.0|          1.0|               0.0|              0.0|\n",
      "|       28236|    No|        Yes|       >30|   89869032|AfricanAmerican|Female| [40-50)|                1|                       1|                  7|             9.0|              47.0|           2.0|           17.0|                0|               0|               0| 250.7|   403|   996|             9.0|        1.0|          0.0|       4.0|         27.0|          7.0|         61.0|          0.0|               0.0|              1.0|\n",
      "|       35754|    No|        Yes|       >30|   82637451|      Caucasian|  Male| [50-60)|                2|                       1|                  2|             3.0|              31.0|           6.0|           16.0|                0|               0|               0|   414|   411|   250|             9.0|        0.0|          1.0|       3.0|          1.0|          9.0|          0.0|          0.0|               0.0|              1.0|\n",
      "|       36900|    Ch|        Yes|       <30|   77391171|AfricanAmerican|  Male| [60-70)|                2|                       1|                  4|             7.0|              62.0|           0.0|           11.0|                0|               0|               0|   157|   288|   197|             7.0|        1.0|          1.0|       1.0|        121.0|        157.0|         37.0|          1.0|               0.0|              2.0|\n",
      "|       40926|    Ch|        Yes|       <30|   85504905|      Caucasian|Female| [40-50)|                1|                       3|                  7|             7.0|              60.0|           0.0|           15.0|                0|               1|               0|   428|250.43| 250.6|             8.0|        0.0|          0.0|       4.0|          0.0|        217.0|         17.0|          1.0|               0.0|              2.0|\n",
      "|       42570|    No|        Yes|        NO|   77586282|      Caucasian|  Male| [80-90)|                1|                       6|                  7|            10.0|              55.0|           1.0|           31.0|                0|               0|               0|   428|   411|   427|             8.0|        0.0|          1.0|       2.0|          0.0|          9.0|          4.0|          0.0|               0.0|              0.0|\n",
      "|       55842|    Ch|        Yes|        NO|   84259809|      Caucasian|  Male| [60-70)|                3|                       1|                  2|             4.0|              70.0|           1.0|           21.0|                0|               0|               0|   414|   411|   V45|             7.0|        0.0|          1.0|       1.0|          1.0|          9.0|         11.0|          1.0|               0.0|              0.0|\n",
      "|       62256|    No|        Yes|       >30|   49726791|AfricanAmerican|Female| [60-70)|                3|                       1|                  2|             1.0|              49.0|           5.0|            2.0|                0|               0|               0|   518|   998|   627|             8.0|        1.0|          0.0|       1.0|         19.0|         29.0|        306.0|          0.0|               0.0|              1.0|\n",
      "|       63768|    No|        Yes|       >30|  114882984|      Caucasian|  Male| [70-80)|                1|                       1|                  7|             5.0|              73.0|           0.0|           12.0|                0|               0|               0|   428|   492|   250|             8.0|        0.0|          1.0|       0.0|          0.0|         68.0|          0.0|          0.0|               0.0|              1.0|\n",
      "|       64410|    No|        Yes|        NO|   86047875|AfricanAmerican|Female| [20-30)|                1|                       1|                  7|             2.0|              11.0|           5.0|           13.0|                2|               0|               1|   648|   250|   V27|             6.0|        1.0|          0.0|       7.0|         74.0|          2.0|        225.0|          0.0|               0.0|              0.0|\n",
      "|       73578|    Ch|        Yes|        NO|   86328819|AfricanAmerican|  Male| [60-70)|                1|                       3|                  7|            12.0|              75.0|           5.0|           13.0|                0|               0|               0|   999|   507|   996|             9.0|        1.0|          1.0|       1.0|        265.0|         78.0|         61.0|          1.0|               0.0|              0.0|\n",
      "|       77076|    Ch|        Yes|       <30|   92519352|AfricanAmerican|  Male| [50-60)|                1|                       1|                  7|             4.0|              45.0|           4.0|           17.0|                0|               0|               0|   410|   411|   414|             8.0|        1.0|          1.0|       3.0|          3.0|          9.0|          5.0|          1.0|               0.0|              2.0|\n",
      "|       84222|    No|        Yes|        NO|  108662661|      Caucasian|Female| [50-60)|                1|                       1|                  7|             3.0|              29.0|           0.0|           11.0|                0|               0|               0|   682|   174|   250|             3.0|        0.0|          0.0|       3.0|         10.0|        241.0|          0.0|          0.0|               0.0|              0.0|\n",
      "|       89682|    No|        Yes|       >30|  107389323|AfricanAmerican|  Male| [70-80)|                1|                       1|                  7|             5.0|              35.0|           5.0|           23.0|                0|               0|               0|   402|   425|   416|             9.0|        1.0|          1.0|       0.0|         43.0|         18.0|         93.0|          0.0|               0.0|              1.0|\n",
      "|      149190|    Ch|        Yes|       >30|   55629189|      Caucasian|Female| [10-20)|                1|                       1|                  7|             3.0|              59.0|           0.0|           18.0|                0|               0|               0|   276|250.01|   255|             9.0|        0.0|          0.0|       8.0|         12.0|         17.0|        162.0|          1.0|               0.0|              1.0|\n",
      "|      182796|    No|         No|        NO|   63000108|AfricanAmerican|Female| [70-80)|                2|                       1|                  4|             2.0|              47.0|           0.0|           12.0|                0|               0|               0|   410|   401|   582|             8.0|        1.0|          0.0|       0.0|          3.0|          4.0|        374.0|          0.0|               1.0|              0.0|\n",
      "|      183930|    No|         No|       >30|  107400762|      Caucasian|Female| [80-90)|                2|                       6|                  1|            11.0|              42.0|           2.0|           19.0|                0|               0|               0|   V57|   715|   V43|             8.0|        0.0|          0.0|       2.0|         17.0|        109.0|         80.0|          0.0|               1.0|              1.0|\n",
      "|      216156|    Ch|        Yes|        NO|   62718876|AfricanAmerican|Female| [70-80)|                3|                       1|                  2|             3.0|              19.0|           4.0|           18.0|                0|               0|               0|   189|   496|   427|             6.0|        1.0|          0.0|       0.0|        117.0|          5.0|          4.0|          1.0|               0.0|              0.0|\n",
      "+------------+------+-----------+----------+-----------+---------------+------+--------+-----------------+------------------------+-------------------+----------------+------------------+--------------+---------------+-----------------+----------------+----------------+------+------+------+----------------+-----------+-------------+----------+-------------+-------------+-------------+-------------+------------------+-----------------+\n",
      "only showing top 20 rows\n",
      "\n"
     ]
    }
   ],
   "source": [
    "indexed8.show()"
   ]
  },
  {
   "cell_type": "code",
   "execution_count": 19,
   "metadata": {},
   "outputs": [
    {
     "data": {
      "text/plain": [
       "['encounter_id',\n",
       " 'change',\n",
       " 'diabetesMed',\n",
       " 'readmitted',\n",
       " 'patient_nbr',\n",
       " 'race',\n",
       " 'gender',\n",
       " 'age',\n",
       " 'admission_type_id',\n",
       " 'discharge_disposition_id',\n",
       " 'admission_source_id',\n",
       " 'time_in_hospital',\n",
       " 'num_lab_procedures',\n",
       " 'num_procedures',\n",
       " 'num_medications',\n",
       " 'number_outpatient',\n",
       " 'number_emergency',\n",
       " 'number_inpatient',\n",
       " 'diag_1',\n",
       " 'diag_2',\n",
       " 'diag_3',\n",
       " 'number_diagnoses',\n",
       " 'raceIndexer',\n",
       " 'genderIndexer',\n",
       " 'ageIndexer',\n",
       " 'diag_1Indexer',\n",
       " 'diag_2Indexer',\n",
       " 'diag_3Indexer',\n",
       " 'changeIndexer',\n",
       " 'diabetesMedIndexer',\n",
       " 'readmittedIndexer']"
      ]
     },
     "execution_count": 19,
     "metadata": {},
     "output_type": "execute_result"
    }
   ],
   "source": [
    "indexed8.columns"
   ]
  },
  {
   "cell_type": "code",
   "execution_count": 20,
   "metadata": {},
   "outputs": [],
   "source": [
    "columns_to_drop = [\n",
    " 'change',\n",
    " 'diabetesMed',\n",
    " 'readmitted',\n",
    " 'race',\n",
    " 'gender',\n",
    " 'age',\n",
    " 'diag_1',\n",
    " 'diag_2',\n",
    " 'diag_3',]\n",
    "final_indexed = indexed8.drop(*columns_to_drop)"
   ]
  },
  {
   "cell_type": "code",
   "execution_count": 18,
   "metadata": {
    "scrolled": true
   },
   "outputs": [
    {
     "name": "stdout",
     "output_type": "stream",
     "text": [
      "+------------+-----------+-----------------+------------------------+-------------------+----------------+------------------+--------------+---------------+-----------------+----------------+----------------+----------------+-----------+-------------+----------+-------------+-------------+-------------+-------------+------------------+-----------------+\n",
      "|encounter_id|patient_nbr|admission_type_id|discharge_disposition_id|admission_source_id|time_in_hospital|num_lab_procedures|num_procedures|num_medications|number_outpatient|number_emergency|number_inpatient|number_diagnoses|raceIndexer|genderIndexer|ageIndexer|diag_1Indexer|diag_2Indexer|diag_3Indexer|changeIndexer|diabetesMedIndexer|readmittedIndexer|\n",
      "+------------+-----------+-----------------+------------------------+-------------------+----------------+------------------+--------------+---------------+-----------------+----------------+----------------+----------------+-----------+-------------+----------+-------------+-------------+-------------+-------------+------------------+-----------------+\n",
      "|       12522|   48330783|                2|                       1|                  4|            13.0|              68.0|           2.0|           28.0|                0|               0|               0|             8.0|        0.0|          0.0|       2.0|        112.0|          3.0|         96.0|          1.0|               0.0|              0.0|\n",
      "|       15738|   63555939|                3|                       3|                  4|            12.0|              33.0|           3.0|           18.0|                0|               0|               0|             8.0|        0.0|          0.0|       6.0|          8.0|         53.0|         30.0|          1.0|               0.0|              0.0|\n",
      "|       16680|   42519267|                1|                       1|                  7|             1.0|              51.0|           0.0|            8.0|                0|               0|               0|             5.0|        0.0|          1.0|       4.0|         61.0|        144.0|          0.0|          1.0|               0.0|              0.0|\n",
      "|       28236|   89869032|                1|                       1|                  7|             9.0|              47.0|           2.0|           17.0|                0|               0|               0|             9.0|        1.0|          0.0|       4.0|         27.0|          7.0|         61.0|          0.0|               0.0|              1.0|\n",
      "|       35754|   82637451|                2|                       1|                  2|             3.0|              31.0|           6.0|           16.0|                0|               0|               0|             9.0|        0.0|          1.0|       3.0|          1.0|          9.0|          0.0|          0.0|               0.0|              1.0|\n",
      "|       36900|   77391171|                2|                       1|                  4|             7.0|              62.0|           0.0|           11.0|                0|               0|               0|             7.0|        1.0|          1.0|       1.0|        121.0|        157.0|         37.0|          1.0|               0.0|              2.0|\n",
      "|       40926|   85504905|                1|                       3|                  7|             7.0|              60.0|           0.0|           15.0|                0|               1|               0|             8.0|        0.0|          0.0|       4.0|          0.0|        217.0|         17.0|          1.0|               0.0|              2.0|\n",
      "|       42570|   77586282|                1|                       6|                  7|            10.0|              55.0|           1.0|           31.0|                0|               0|               0|             8.0|        0.0|          1.0|       2.0|          0.0|          9.0|          4.0|          0.0|               0.0|              0.0|\n",
      "|       55842|   84259809|                3|                       1|                  2|             4.0|              70.0|           1.0|           21.0|                0|               0|               0|             7.0|        0.0|          1.0|       1.0|          1.0|          9.0|         11.0|          1.0|               0.0|              0.0|\n",
      "|       62256|   49726791|                3|                       1|                  2|             1.0|              49.0|           5.0|            2.0|                0|               0|               0|             8.0|        1.0|          0.0|       1.0|         19.0|         29.0|        306.0|          0.0|               0.0|              1.0|\n",
      "|       63768|  114882984|                1|                       1|                  7|             5.0|              73.0|           0.0|           12.0|                0|               0|               0|             8.0|        0.0|          1.0|       0.0|          0.0|         68.0|          0.0|          0.0|               0.0|              1.0|\n",
      "|       64410|   86047875|                1|                       1|                  7|             2.0|              11.0|           5.0|           13.0|                2|               0|               1|             6.0|        1.0|          0.0|       7.0|         74.0|          2.0|        225.0|          0.0|               0.0|              0.0|\n",
      "|       73578|   86328819|                1|                       3|                  7|            12.0|              75.0|           5.0|           13.0|                0|               0|               0|             9.0|        1.0|          1.0|       1.0|        265.0|         78.0|         61.0|          1.0|               0.0|              0.0|\n",
      "|       77076|   92519352|                1|                       1|                  7|             4.0|              45.0|           4.0|           17.0|                0|               0|               0|             8.0|        1.0|          1.0|       3.0|          3.0|          9.0|          5.0|          1.0|               0.0|              2.0|\n",
      "|       84222|  108662661|                1|                       1|                  7|             3.0|              29.0|           0.0|           11.0|                0|               0|               0|             3.0|        0.0|          0.0|       3.0|         10.0|        241.0|          0.0|          0.0|               0.0|              0.0|\n",
      "|       89682|  107389323|                1|                       1|                  7|             5.0|              35.0|           5.0|           23.0|                0|               0|               0|             9.0|        1.0|          1.0|       0.0|         43.0|         18.0|         93.0|          0.0|               0.0|              1.0|\n",
      "|      149190|   55629189|                1|                       1|                  7|             3.0|              59.0|           0.0|           18.0|                0|               0|               0|             9.0|        0.0|          0.0|       8.0|         12.0|         17.0|        162.0|          1.0|               0.0|              1.0|\n",
      "|      182796|   63000108|                2|                       1|                  4|             2.0|              47.0|           0.0|           12.0|                0|               0|               0|             8.0|        1.0|          0.0|       0.0|          3.0|          4.0|        374.0|          0.0|               1.0|              0.0|\n",
      "|      183930|  107400762|                2|                       6|                  1|            11.0|              42.0|           2.0|           19.0|                0|               0|               0|             8.0|        0.0|          0.0|       2.0|         17.0|        109.0|         80.0|          0.0|               1.0|              1.0|\n",
      "|      216156|   62718876|                3|                       1|                  2|             3.0|              19.0|           4.0|           18.0|                0|               0|               0|             6.0|        1.0|          0.0|       0.0|        117.0|          5.0|          4.0|          1.0|               0.0|              0.0|\n",
      "+------------+-----------+-----------------+------------------------+-------------------+----------------+------------------+--------------+---------------+-----------------+----------------+----------------+----------------+-----------+-------------+----------+-------------+-------------+-------------+-------------+------------------+-----------------+\n",
      "only showing top 20 rows\n",
      "\n"
     ]
    }
   ],
   "source": [
    "final_indexed.show()"
   ]
  },
  {
   "cell_type": "code",
   "execution_count": 22,
   "metadata": {},
   "outputs": [
    {
     "data": {
      "text/plain": [
       "['encounter_id',\n",
       " 'patient_nbr',\n",
       " 'admission_type_id',\n",
       " 'discharge_disposition_id',\n",
       " 'admission_source_id',\n",
       " 'time_in_hospital',\n",
       " 'num_lab_procedures',\n",
       " 'num_procedures',\n",
       " 'num_medications',\n",
       " 'number_outpatient',\n",
       " 'number_emergency',\n",
       " 'number_inpatient',\n",
       " 'number_diagnoses',\n",
       " 'raceIndexer',\n",
       " 'genderIndexer',\n",
       " 'ageIndexer',\n",
       " 'diag_1Indexer',\n",
       " 'diag_2Indexer',\n",
       " 'diag_3Indexer',\n",
       " 'changeIndexer',\n",
       " 'diabetesMedIndexer',\n",
       " 'readmittedIndexer']"
      ]
     },
     "execution_count": 22,
     "metadata": {},
     "output_type": "execute_result"
    }
   ],
   "source": [
    "final_indexed.columns"
   ]
  },
  {
   "cell_type": "code",
   "execution_count": 21,
   "metadata": {},
   "outputs": [],
   "source": [
    "assembler = VectorAssembler(\n",
    "  inputCols=['encounter_id',\n",
    " 'patient_nbr',\n",
    " 'admission_type_id',\n",
    " 'discharge_disposition_id',\n",
    " 'admission_source_id',\n",
    " 'time_in_hospital',\n",
    " 'num_lab_procedures',\n",
    " 'num_procedures',\n",
    " 'num_medications',\n",
    " 'number_outpatient',\n",
    " 'number_emergency',\n",
    " 'number_inpatient',\n",
    " 'number_diagnoses',\n",
    " 'raceIndexer',\n",
    " 'genderIndexer',\n",
    " 'ageIndexer',\n",
    " 'diag_1Indexer',\n",
    " 'diag_2Indexer',\n",
    " 'diag_3Indexer',\n",
    " 'changeIndexer',\n",
    " 'diabetesMedIndexer',\n",
    " 'readmittedIndexer'],\n",
    "              outputCol=\"features\")"
   ]
  },
  {
   "cell_type": "code",
   "execution_count": 22,
   "metadata": {},
   "outputs": [],
   "source": [
    "output = assembler.transform(final_indexed)"
   ]
  },
  {
   "cell_type": "code",
   "execution_count": 23,
   "metadata": {
    "scrolled": true
   },
   "outputs": [
    {
     "name": "stdout",
     "output_type": "stream",
     "text": [
      "+------------+-----------+-----------------+------------------------+-------------------+----------------+------------------+--------------+---------------+-----------------+----------------+----------------+----------------+-----------+-------------+----------+-------------+-------------+-------------+-------------+------------------+-----------------+--------------------+\n",
      "|encounter_id|patient_nbr|admission_type_id|discharge_disposition_id|admission_source_id|time_in_hospital|num_lab_procedures|num_procedures|num_medications|number_outpatient|number_emergency|number_inpatient|number_diagnoses|raceIndexer|genderIndexer|ageIndexer|diag_1Indexer|diag_2Indexer|diag_3Indexer|changeIndexer|diabetesMedIndexer|readmittedIndexer|            features|\n",
      "+------------+-----------+-----------------+------------------------+-------------------+----------------+------------------+--------------+---------------+-----------------+----------------+----------------+----------------+-----------+-------------+----------+-------------+-------------+-------------+-------------+------------------+-----------------+--------------------+\n",
      "|       12522|   48330783|                2|                       1|                  4|            13.0|              68.0|           2.0|           28.0|                0|               0|               0|             8.0|        0.0|          0.0|       2.0|        112.0|          3.0|         96.0|          1.0|               0.0|              0.0|[12522.0,4.833078...|\n",
      "|       15738|   63555939|                3|                       3|                  4|            12.0|              33.0|           3.0|           18.0|                0|               0|               0|             8.0|        0.0|          0.0|       6.0|          8.0|         53.0|         30.0|          1.0|               0.0|              0.0|[15738.0,6.355593...|\n",
      "|       16680|   42519267|                1|                       1|                  7|             1.0|              51.0|           0.0|            8.0|                0|               0|               0|             5.0|        0.0|          1.0|       4.0|         61.0|        144.0|          0.0|          1.0|               0.0|              0.0|[16680.0,4.251926...|\n",
      "|       28236|   89869032|                1|                       1|                  7|             9.0|              47.0|           2.0|           17.0|                0|               0|               0|             9.0|        1.0|          0.0|       4.0|         27.0|          7.0|         61.0|          0.0|               0.0|              1.0|[28236.0,8.986903...|\n",
      "|       35754|   82637451|                2|                       1|                  2|             3.0|              31.0|           6.0|           16.0|                0|               0|               0|             9.0|        0.0|          1.0|       3.0|          1.0|          9.0|          0.0|          0.0|               0.0|              1.0|[35754.0,8.263745...|\n",
      "|       36900|   77391171|                2|                       1|                  4|             7.0|              62.0|           0.0|           11.0|                0|               0|               0|             7.0|        1.0|          1.0|       1.0|        121.0|        157.0|         37.0|          1.0|               0.0|              2.0|[36900.0,7.739117...|\n",
      "|       40926|   85504905|                1|                       3|                  7|             7.0|              60.0|           0.0|           15.0|                0|               1|               0|             8.0|        0.0|          0.0|       4.0|          0.0|        217.0|         17.0|          1.0|               0.0|              2.0|[40926.0,8.550490...|\n",
      "|       42570|   77586282|                1|                       6|                  7|            10.0|              55.0|           1.0|           31.0|                0|               0|               0|             8.0|        0.0|          1.0|       2.0|          0.0|          9.0|          4.0|          0.0|               0.0|              0.0|[42570.0,7.758628...|\n",
      "|       55842|   84259809|                3|                       1|                  2|             4.0|              70.0|           1.0|           21.0|                0|               0|               0|             7.0|        0.0|          1.0|       1.0|          1.0|          9.0|         11.0|          1.0|               0.0|              0.0|[55842.0,8.425980...|\n",
      "|       62256|   49726791|                3|                       1|                  2|             1.0|              49.0|           5.0|            2.0|                0|               0|               0|             8.0|        1.0|          0.0|       1.0|         19.0|         29.0|        306.0|          0.0|               0.0|              1.0|[62256.0,4.972679...|\n",
      "|       63768|  114882984|                1|                       1|                  7|             5.0|              73.0|           0.0|           12.0|                0|               0|               0|             8.0|        0.0|          1.0|       0.0|          0.0|         68.0|          0.0|          0.0|               0.0|              1.0|(22,[0,1,2,3,4,5,...|\n",
      "|       64410|   86047875|                1|                       1|                  7|             2.0|              11.0|           5.0|           13.0|                2|               0|               1|             6.0|        1.0|          0.0|       7.0|         74.0|          2.0|        225.0|          0.0|               0.0|              0.0|[64410.0,8.604787...|\n",
      "|       73578|   86328819|                1|                       3|                  7|            12.0|              75.0|           5.0|           13.0|                0|               0|               0|             9.0|        1.0|          1.0|       1.0|        265.0|         78.0|         61.0|          1.0|               0.0|              0.0|[73578.0,8.632881...|\n",
      "|       77076|   92519352|                1|                       1|                  7|             4.0|              45.0|           4.0|           17.0|                0|               0|               0|             8.0|        1.0|          1.0|       3.0|          3.0|          9.0|          5.0|          1.0|               0.0|              2.0|[77076.0,9.251935...|\n",
      "|       84222|  108662661|                1|                       1|                  7|             3.0|              29.0|           0.0|           11.0|                0|               0|               0|             3.0|        0.0|          0.0|       3.0|         10.0|        241.0|          0.0|          0.0|               0.0|              0.0|(22,[0,1,2,3,4,5,...|\n",
      "|       89682|  107389323|                1|                       1|                  7|             5.0|              35.0|           5.0|           23.0|                0|               0|               0|             9.0|        1.0|          1.0|       0.0|         43.0|         18.0|         93.0|          0.0|               0.0|              1.0|[89682.0,1.073893...|\n",
      "|      149190|   55629189|                1|                       1|                  7|             3.0|              59.0|           0.0|           18.0|                0|               0|               0|             9.0|        0.0|          0.0|       8.0|         12.0|         17.0|        162.0|          1.0|               0.0|              1.0|[149190.0,5.56291...|\n",
      "|      182796|   63000108|                2|                       1|                  4|             2.0|              47.0|           0.0|           12.0|                0|               0|               0|             8.0|        1.0|          0.0|       0.0|          3.0|          4.0|        374.0|          0.0|               1.0|              0.0|[182796.0,6.30001...|\n",
      "|      183930|  107400762|                2|                       6|                  1|            11.0|              42.0|           2.0|           19.0|                0|               0|               0|             8.0|        0.0|          0.0|       2.0|         17.0|        109.0|         80.0|          0.0|               1.0|              1.0|[183930.0,1.07400...|\n",
      "|      216156|   62718876|                3|                       1|                  2|             3.0|              19.0|           4.0|           18.0|                0|               0|               0|             6.0|        1.0|          0.0|       0.0|        117.0|          5.0|          4.0|          1.0|               0.0|              0.0|[216156.0,6.27188...|\n",
      "+------------+-----------+-----------------+------------------------+-------------------+----------------+------------------+--------------+---------------+-----------------+----------------+----------------+----------------+-----------+-------------+----------+-------------+-------------+-------------+-------------+------------------+-----------------+--------------------+\n",
      "only showing top 20 rows\n",
      "\n"
     ]
    }
   ],
   "source": [
    "output.show()"
   ]
  },
  {
   "cell_type": "code",
   "execution_count": 24,
   "metadata": {},
   "outputs": [],
   "source": [
    "final_data = output.select(\"features\",'readmittedIndexer')"
   ]
  },
  {
   "cell_type": "code",
   "execution_count": 22,
   "metadata": {},
   "outputs": [
    {
     "name": "stdout",
     "output_type": "stream",
     "text": [
      "+--------------------+-----------------+\n",
      "|            features|readmittedIndexer|\n",
      "+--------------------+-----------------+\n",
      "|[12522.0,4.833078...|              0.0|\n",
      "|[15738.0,6.355593...|              0.0|\n",
      "|[16680.0,4.251926...|              0.0|\n",
      "|[28236.0,8.986903...|              1.0|\n",
      "|[35754.0,8.263745...|              1.0|\n",
      "|[36900.0,7.739117...|              2.0|\n",
      "|[40926.0,8.550490...|              2.0|\n",
      "|[42570.0,7.758628...|              0.0|\n",
      "|[55842.0,8.425980...|              0.0|\n",
      "|[62256.0,4.972679...|              1.0|\n",
      "|(22,[0,1,2,3,4,5,...|              1.0|\n",
      "|[64410.0,8.604787...|              0.0|\n",
      "|[73578.0,8.632881...|              0.0|\n",
      "|[77076.0,9.251935...|              2.0|\n",
      "|(22,[0,1,2,3,4,5,...|              0.0|\n",
      "|[89682.0,1.073893...|              1.0|\n",
      "|[149190.0,5.56291...|              1.0|\n",
      "|[182796.0,6.30001...|              0.0|\n",
      "|[183930.0,1.07400...|              1.0|\n",
      "|[216156.0,6.27188...|              0.0|\n",
      "+--------------------+-----------------+\n",
      "only showing top 20 rows\n",
      "\n"
     ]
    }
   ],
   "source": [
    "final_data.show()"
   ]
  },
  {
   "cell_type": "code",
   "execution_count": 28,
   "metadata": {},
   "outputs": [],
   "source": [
    "normalizer = Normalizer(inputCol=\"features\", outputCol=\"normFeatures\", p=1.0)\n",
    "l1NormData = normalizer.transform(final_data)"
   ]
  },
  {
   "cell_type": "code",
   "execution_count": 29,
   "metadata": {},
   "outputs": [
    {
     "name": "stdout",
     "output_type": "stream",
     "text": [
      "+------------------------------------------------------------------------------------------------------------------------------------------------------------------------------------------------------------------------------------------------------------------------------------------------------------------------------------------------------------------------------+\n",
      "|normFeatures                                                                                                                                                                                                                                                                                                                                                                  |\n",
      "+------------------------------------------------------------------------------------------------------------------------------------------------------------------------------------------------------------------------------------------------------------------------------------------------------------------------------------------------------------------------------+\n",
      "|[2.5902060136342634E-4,0.9997339464163284,4.137048416601603E-8,2.0685242083008015E-8,8.274096833203206E-8,2.689081470791042E-7,1.406596461644545E-6,4.137048416601603E-8,5.791867783242244E-7,0.0,0.0,0.0,1.6548193666406412E-7,0.0,0.0,4.137048416601603E-8,2.3167471132968976E-6,6.205572624902404E-8,1.9857832399687694E-6,2.0685242083008015E-8,0.0,0.0]                  |\n",
      "|[2.475623687518718E-4,0.9997495747292839,4.719069171785585E-8,4.719069171785585E-8,6.292092229047447E-8,1.887627668714234E-7,5.190976088964144E-7,4.719069171785585E-8,2.831441503071351E-7,0.0,0.0,0.0,1.2584184458094894E-7,0.0,0.0,9.43813834357117E-8,1.2584184458094894E-7,8.337022203487867E-7,4.719069171785585E-7,1.5730230572618618E-8,0.0,0.0]                      |\n",
      "|[3.9213628513216686E-4,0.9996011635445283,2.350936961224022E-8,2.350936961224022E-8,1.6456558728568153E-7,2.350936961224022E-8,1.1989778502242511E-6,0.0,1.8807495689792175E-7,0.0,0.0,0.0,1.175468480612011E-7,0.0,2.350936961224022E-8,9.403747844896088E-8,1.4340715463466534E-6,3.3853492241625916E-6,0.0,2.350936961224022E-8,0.0,0.0]                                   |\n",
      "|[3.140911809056411E-4,0.9996837508048892,1.1123784562460729E-8,1.1123784562460729E-8,7.78664919372251E-8,1.0011406106214656E-7,5.228178744356543E-7,2.2247569124921458E-8,1.891043375618324E-7,0.0,0.0,0.0,1.0011406106214656E-7,1.1123784562460729E-8,0.0,4.4495138249842916E-8,3.0034218318643966E-7,7.78664919372251E-8,6.785508583101045E-7,0.0,0.0,1.1123784562460729E-8]|\n",
      "|[4.324734143276504E-4,0.9995664984422418,2.4191610131881773E-8,1.2095805065940887E-8,2.4191610131881773E-8,3.628741519782266E-8,3.7496995704416745E-7,7.257483039564532E-8,1.9353288105505419E-7,0.0,0.0,0.0,1.0886224559346797E-7,0.0,1.2095805065940887E-8,3.628741519782266E-8,1.2095805065940887E-8,1.0886224559346797E-7,0.0,0.0,0.0,1.2095805065940887E-8]              |\n",
      "+------------------------------------------------------------------------------------------------------------------------------------------------------------------------------------------------------------------------------------------------------------------------------------------------------------------------------------------------------------------------------+\n",
      "only showing top 5 rows\n",
      "\n"
     ]
    }
   ],
   "source": [
    "l1NormData.select('normFeatures').show(5,truncate = False)"
   ]
  },
  {
   "cell_type": "code",
   "execution_count": 23,
   "metadata": {},
   "outputs": [
    {
     "name": "stdout",
     "output_type": "stream",
     "text": [
      "ChiSqSelector output with top 10 features selected\n",
      "+--------------------+-----------------+--------------------+\n",
      "|            features|readmittedIndexer|    selectedFeatures|\n",
      "+--------------------+-----------------+--------------------+\n",
      "|[12522.0,4.833078...|              0.0|[2.0,1.0,4.0,13.0...|\n",
      "|[15738.0,6.355593...|              0.0|[3.0,3.0,4.0,12.0...|\n",
      "|[16680.0,4.251926...|              0.0|[1.0,1.0,7.0,1.0,...|\n",
      "|[28236.0,8.986903...|              1.0|[1.0,1.0,7.0,9.0,...|\n",
      "|[35754.0,8.263745...|              1.0|[2.0,1.0,2.0,3.0,...|\n",
      "|[36900.0,7.739117...|              2.0|[2.0,1.0,4.0,7.0,...|\n",
      "|[40926.0,8.550490...|              2.0|[1.0,3.0,7.0,7.0,...|\n",
      "|[42570.0,7.758628...|              0.0|[1.0,6.0,7.0,10.0...|\n",
      "|[55842.0,8.425980...|              0.0|[3.0,1.0,2.0,4.0,...|\n",
      "|[62256.0,4.972679...|              1.0|[3.0,1.0,2.0,1.0,...|\n",
      "|(22,[0,1,2,3,4,5,...|              1.0|(10,[0,1,2,3,4,6]...|\n",
      "|[64410.0,8.604787...|              0.0|[1.0,1.0,7.0,2.0,...|\n",
      "|[73578.0,8.632881...|              0.0|[1.0,3.0,7.0,12.0...|\n",
      "|[77076.0,9.251935...|              2.0|[1.0,1.0,7.0,4.0,...|\n",
      "|(22,[0,1,2,3,4,5,...|              0.0|(10,[0,1,2,3,4,6]...|\n",
      "|[89682.0,1.073893...|              1.0|[1.0,1.0,7.0,5.0,...|\n",
      "|[149190.0,5.56291...|              1.0|[1.0,1.0,7.0,3.0,...|\n",
      "|[182796.0,6.30001...|              0.0|[2.0,1.0,4.0,2.0,...|\n",
      "|[183930.0,1.07400...|              1.0|[2.0,6.0,1.0,11.0...|\n",
      "|[216156.0,6.27188...|              0.0|[3.0,1.0,2.0,3.0,...|\n",
      "+--------------------+-----------------+--------------------+\n",
      "only showing top 20 rows\n",
      "\n"
     ]
    }
   ],
   "source": [
    "from pyspark.ml.feature import ChiSqSelector\n",
    "from pyspark.ml.linalg import Vectors\n",
    "\n",
    "selector = ChiSqSelector(numTopFeatures=10, featuresCol=\"features\",\n",
    "                         outputCol=\"selectedFeatures\", labelCol=\"readmittedIndexer\")\n",
    "\n",
    "result = selector.fit(final_data).transform(final_data)\n",
    "\n",
    "print(\"ChiSqSelector output with top %d features selected\" % selector.getNumTopFeatures())\n",
    "result.show()"
   ]
  },
  {
   "cell_type": "markdown",
   "metadata": {},
   "source": [
    "Step 7"
   ]
  },
  {
   "cell_type": "code",
   "execution_count": 31,
   "metadata": {},
   "outputs": [
    {
     "name": "stdout",
     "output_type": "stream",
     "text": [
      "+--------------------+-----------------+\n",
      "|            features|readmittedIndexer|\n",
      "+--------------------+-----------------+\n",
      "|[12522.0,4.833078...|              0.0|\n",
      "|[15738.0,6.355593...|              0.0|\n",
      "|[16680.0,4.251926...|              0.0|\n",
      "|[28236.0,8.986903...|              1.0|\n",
      "|[35754.0,8.263745...|              1.0|\n",
      "|[36900.0,7.739117...|              2.0|\n",
      "|[40926.0,8.550490...|              2.0|\n",
      "|[42570.0,7.758628...|              0.0|\n",
      "|[55842.0,8.425980...|              0.0|\n",
      "|[62256.0,4.972679...|              1.0|\n",
      "|(22,[0,1,2,3,4,5,...|              1.0|\n",
      "|[64410.0,8.604787...|              0.0|\n",
      "|[73578.0,8.632881...|              0.0|\n",
      "|[77076.0,9.251935...|              2.0|\n",
      "|(22,[0,1,2,3,4,5,...|              0.0|\n",
      "|[89682.0,1.073893...|              1.0|\n",
      "|[149190.0,5.56291...|              1.0|\n",
      "|[182796.0,6.30001...|              0.0|\n",
      "|[183930.0,1.07400...|              1.0|\n",
      "|[216156.0,6.27188...|              0.0|\n",
      "+--------------------+-----------------+\n",
      "only showing top 20 rows\n",
      "\n"
     ]
    }
   ],
   "source": [
    "final_data.show()"
   ]
  },
  {
   "cell_type": "code",
   "execution_count": 25,
   "metadata": {},
   "outputs": [],
   "source": [
    "train_data,test_data = final_data.randomSplit([0.7,0.3])"
   ]
  },
  {
   "cell_type": "code",
   "execution_count": 26,
   "metadata": {},
   "outputs": [],
   "source": [
    "from pyspark.ml.classification import DecisionTreeClassifier\n",
    "from pyspark.ml import Pipeline"
   ]
  },
  {
   "cell_type": "code",
   "execution_count": 27,
   "metadata": {},
   "outputs": [],
   "source": [
    "decisionTree = DecisionTreeClassifier(labelCol='readmittedIndexer',featuresCol='features',maxBins = 786,maxDepth = 5)"
   ]
  },
  {
   "cell_type": "code",
   "execution_count": 48,
   "metadata": {},
   "outputs": [],
   "source": [
    "decisionTree_model =  decisionTree.fit(train_data)"
   ]
  },
  {
   "cell_type": "code",
   "execution_count": 53,
   "metadata": {},
   "outputs": [
    {
     "name": "stdout",
     "output_type": "stream",
     "text": [
      "(22,[21],[1.0])\n"
     ]
    }
   ],
   "source": [
    "print(decisionTree_model.featureImportances)"
   ]
  },
  {
   "cell_type": "code",
   "execution_count": 43,
   "metadata": {
    "scrolled": true
   },
   "outputs": [
    {
     "name": "stdout",
     "output_type": "stream",
     "text": [
      "DecisionTreeClassificationModel (uid=DecisionTreeClassifier_4b58a334fc86bf12a0ba) of depth 2 with 5 nodes\n"
     ]
    }
   ],
   "source": [
    "print(decisionTree_model)"
   ]
  },
  {
   "cell_type": "code",
   "execution_count": 39,
   "metadata": {},
   "outputs": [],
   "source": [
    "decisionTree_predictions = decisionTree_model.transform(test_data)"
   ]
  },
  {
   "cell_type": "code",
   "execution_count": 27,
   "metadata": {},
   "outputs": [
    {
     "name": "stdout",
     "output_type": "stream",
     "text": [
      "+----------+-----------------+--------------------+\n",
      "|prediction|readmittedIndexer|            features|\n",
      "+----------+-----------------+--------------------+\n",
      "|       0.0|              0.0|(22,[0,1,2,3,4,5,...|\n",
      "|       0.0|              0.0|(22,[0,1,2,3,4,5,...|\n",
      "|       0.0|              0.0|(22,[0,1,2,3,4,5,...|\n",
      "|       0.0|              0.0|(22,[0,1,2,3,4,5,...|\n",
      "|       0.0|              0.0|(22,[0,1,2,3,4,5,...|\n",
      "|       0.0|              0.0|(22,[0,1,2,3,4,5,...|\n",
      "|       0.0|              0.0|(22,[0,1,2,3,4,5,...|\n",
      "|       1.0|              1.0|(22,[0,1,2,3,4,5,...|\n",
      "|       1.0|              1.0|(22,[0,1,2,3,4,5,...|\n",
      "|       1.0|              1.0|(22,[0,1,2,3,4,5,...|\n",
      "|       1.0|              1.0|(22,[0,1,2,3,4,5,...|\n",
      "|       0.0|              0.0|[64410.0,8.604787...|\n",
      "|       0.0|              0.0|[73578.0,8.632881...|\n",
      "|       0.0|              0.0|[182796.0,6.30001...|\n",
      "|       0.0|              0.0|[216156.0,6.27188...|\n",
      "|       0.0|              0.0|[253380.0,5.64802...|\n",
      "|       1.0|              1.0|[326028.0,1.12002...|\n",
      "|       2.0|              2.0|[486156.0,8.62402...|\n",
      "|       0.0|              0.0|[500364.0,8.24423...|\n",
      "|       0.0|              0.0|[544194.0,3.49978...|\n",
      "+----------+-----------------+--------------------+\n",
      "only showing top 20 rows\n",
      "\n"
     ]
    }
   ],
   "source": [
    "decisionTree_predictions.select(\"prediction\", \"readmittedIndexer\", \"features\").show(20)"
   ]
  },
  {
   "cell_type": "code",
   "execution_count": 44,
   "metadata": {},
   "outputs": [],
   "source": [
    "from pyspark.ml.evaluation import BinaryClassificationEvaluator\n",
    "\n",
    "my_binary_eval = BinaryClassificationEvaluator(labelCol = 'readmittedIndexer')"
   ]
  },
  {
   "cell_type": "code",
   "execution_count": 45,
   "metadata": {},
   "outputs": [
    {
     "name": "stdout",
     "output_type": "stream",
     "text": [
      "Decision Tree Accuracy\n",
      "Decision tree has an accuracy of: 0.88%\n",
      "Exact accuracy:0.8820947922761849\n"
     ]
    }
   ],
   "source": [
    "print(\"Decision Tree Accuracy\")\n",
    "print('Decision tree has an accuracy of: {0:2.2f}%'.format(my_binary_eval.evaluate(decisionTree_predictions)))\n",
    "print('Exact accuracy:'+str(my_binary_eval.evaluate(decisionTree_predictions)))"
   ]
  },
  {
   "cell_type": "code",
   "execution_count": null,
   "metadata": {},
   "outputs": [],
   "source": []
  }
 ],
 "metadata": {
  "kernelspec": {
   "display_name": "Python 3",
   "language": "python",
   "name": "python3"
  },
  "language_info": {
   "codemirror_mode": {
    "name": "ipython",
    "version": 3
   },
   "file_extension": ".py",
   "mimetype": "text/x-python",
   "name": "python",
   "nbconvert_exporter": "python",
   "pygments_lexer": "ipython3",
   "version": "3.5.2"
  }
 },
 "nbformat": 4,
 "nbformat_minor": 2
}
